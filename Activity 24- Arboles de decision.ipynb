{
 "cells": [
  {
   "cell_type": "code",
   "execution_count": 46,
   "id": "6849c403",
   "metadata": {},
   "outputs": [],
   "source": [
    "# Importando Librerias\n",
    "import pandas as pd\n",
    "import os\n",
    "import warnings\n",
    "warnings.filterwarnings(\"ignore\")\n",
    "os.chdir(\"C:\\\\Users\\\\wichi\\\\OneDrive\\\\Documentos\\\\EBAC\\\\Data Science\\\\Actividades\\\\Arboles de decision\\\\Activity\")"
   ]
  },
  {
   "cell_type": "code",
   "execution_count": 69,
   "id": "88db5e6c",
   "metadata": {},
   "outputs": [
    {
     "data": {
      "text/html": [
       "<div>\n",
       "<style scoped>\n",
       "    .dataframe tbody tr th:only-of-type {\n",
       "        vertical-align: middle;\n",
       "    }\n",
       "\n",
       "    .dataframe tbody tr th {\n",
       "        vertical-align: top;\n",
       "    }\n",
       "\n",
       "    .dataframe thead th {\n",
       "        text-align: right;\n",
       "    }\n",
       "</style>\n",
       "<table border=\"1\" class=\"dataframe\">\n",
       "  <thead>\n",
       "    <tr style=\"text-align: right;\">\n",
       "      <th></th>\n",
       "      <th>Age</th>\n",
       "      <th>Sex</th>\n",
       "      <th>BP</th>\n",
       "      <th>Cholesterol</th>\n",
       "      <th>Na_to_K</th>\n",
       "      <th>Drug</th>\n",
       "    </tr>\n",
       "  </thead>\n",
       "  <tbody>\n",
       "    <tr>\n",
       "      <th>0</th>\n",
       "      <td>23</td>\n",
       "      <td>F</td>\n",
       "      <td>HIGH</td>\n",
       "      <td>HIGH</td>\n",
       "      <td>25.355</td>\n",
       "      <td>drugY</td>\n",
       "    </tr>\n",
       "    <tr>\n",
       "      <th>1</th>\n",
       "      <td>47</td>\n",
       "      <td>M</td>\n",
       "      <td>LOW</td>\n",
       "      <td>HIGH</td>\n",
       "      <td>13.093</td>\n",
       "      <td>drugC</td>\n",
       "    </tr>\n",
       "    <tr>\n",
       "      <th>2</th>\n",
       "      <td>47</td>\n",
       "      <td>M</td>\n",
       "      <td>LOW</td>\n",
       "      <td>HIGH</td>\n",
       "      <td>10.114</td>\n",
       "      <td>drugC</td>\n",
       "    </tr>\n",
       "    <tr>\n",
       "      <th>3</th>\n",
       "      <td>28</td>\n",
       "      <td>F</td>\n",
       "      <td>NORMAL</td>\n",
       "      <td>HIGH</td>\n",
       "      <td>7.798</td>\n",
       "      <td>drugX</td>\n",
       "    </tr>\n",
       "    <tr>\n",
       "      <th>4</th>\n",
       "      <td>61</td>\n",
       "      <td>F</td>\n",
       "      <td>LOW</td>\n",
       "      <td>HIGH</td>\n",
       "      <td>18.043</td>\n",
       "      <td>drugY</td>\n",
       "    </tr>\n",
       "    <tr>\n",
       "      <th>...</th>\n",
       "      <td>...</td>\n",
       "      <td>...</td>\n",
       "      <td>...</td>\n",
       "      <td>...</td>\n",
       "      <td>...</td>\n",
       "      <td>...</td>\n",
       "    </tr>\n",
       "    <tr>\n",
       "      <th>195</th>\n",
       "      <td>56</td>\n",
       "      <td>F</td>\n",
       "      <td>LOW</td>\n",
       "      <td>HIGH</td>\n",
       "      <td>11.567</td>\n",
       "      <td>drugC</td>\n",
       "    </tr>\n",
       "    <tr>\n",
       "      <th>196</th>\n",
       "      <td>16</td>\n",
       "      <td>M</td>\n",
       "      <td>LOW</td>\n",
       "      <td>HIGH</td>\n",
       "      <td>12.006</td>\n",
       "      <td>drugC</td>\n",
       "    </tr>\n",
       "    <tr>\n",
       "      <th>197</th>\n",
       "      <td>52</td>\n",
       "      <td>M</td>\n",
       "      <td>NORMAL</td>\n",
       "      <td>HIGH</td>\n",
       "      <td>9.894</td>\n",
       "      <td>drugX</td>\n",
       "    </tr>\n",
       "    <tr>\n",
       "      <th>198</th>\n",
       "      <td>23</td>\n",
       "      <td>M</td>\n",
       "      <td>NORMAL</td>\n",
       "      <td>NORMAL</td>\n",
       "      <td>14.020</td>\n",
       "      <td>drugX</td>\n",
       "    </tr>\n",
       "    <tr>\n",
       "      <th>199</th>\n",
       "      <td>40</td>\n",
       "      <td>F</td>\n",
       "      <td>LOW</td>\n",
       "      <td>NORMAL</td>\n",
       "      <td>11.349</td>\n",
       "      <td>drugX</td>\n",
       "    </tr>\n",
       "  </tbody>\n",
       "</table>\n",
       "<p>200 rows × 6 columns</p>\n",
       "</div>"
      ],
      "text/plain": [
       "     Age Sex      BP Cholesterol  Na_to_K   Drug\n",
       "0     23   F    HIGH        HIGH   25.355  drugY\n",
       "1     47   M     LOW        HIGH   13.093  drugC\n",
       "2     47   M     LOW        HIGH   10.114  drugC\n",
       "3     28   F  NORMAL        HIGH    7.798  drugX\n",
       "4     61   F     LOW        HIGH   18.043  drugY\n",
       "..   ...  ..     ...         ...      ...    ...\n",
       "195   56   F     LOW        HIGH   11.567  drugC\n",
       "196   16   M     LOW        HIGH   12.006  drugC\n",
       "197   52   M  NORMAL        HIGH    9.894  drugX\n",
       "198   23   M  NORMAL      NORMAL   14.020  drugX\n",
       "199   40   F     LOW      NORMAL   11.349  drugX\n",
       "\n",
       "[200 rows x 6 columns]"
      ]
     },
     "execution_count": 69,
     "metadata": {},
     "output_type": "execute_result"
    }
   ],
   "source": [
    "# Cargar los datos\n",
    "df_origin = pd.read_csv(\"drugs.csv\")\n",
    "df_origin"
   ]
  },
  {
   "cell_type": "code",
   "execution_count": 70,
   "id": "d0c28ce8",
   "metadata": {},
   "outputs": [
    {
     "data": {
      "text/plain": [
       "array(['drugY', 'drugC', 'drugX', 'drugA', 'drugB'], dtype=object)"
      ]
     },
     "execution_count": 70,
     "metadata": {},
     "output_type": "execute_result"
    }
   ],
   "source": [
    "df_origin[\"Drug\"].unique()"
   ]
  },
  {
   "cell_type": "code",
   "execution_count": 71,
   "id": "50c741f5",
   "metadata": {},
   "outputs": [],
   "source": [
    "#Separando el data set en variables independientes y dependientes\n",
    "feature_cols = [\"Age\", \"Sex\",\"BP\", \"Cholesterol\", \"Na_to_K\" ]\n",
    "x = df_origin[feature_cols].values\n",
    "y = df_origin.Drug"
   ]
  },
  {
   "cell_type": "code",
   "execution_count": 72,
   "id": "a056deb3",
   "metadata": {},
   "outputs": [
    {
     "data": {
      "text/plain": [
       "array([[23, 'F', 'HIGH', 'HIGH', 25.355],\n",
       "       [47, 'M', 'LOW', 'HIGH', 13.093],\n",
       "       [47, 'M', 'LOW', 'HIGH', 10.114],\n",
       "       [28, 'F', 'NORMAL', 'HIGH', 7.798],\n",
       "       [61, 'F', 'LOW', 'HIGH', 18.043],\n",
       "       [22, 'F', 'NORMAL', 'HIGH', 8.607],\n",
       "       [49, 'F', 'NORMAL', 'HIGH', 16.275],\n",
       "       [41, 'M', 'LOW', 'HIGH', 11.037],\n",
       "       [60, 'M', 'NORMAL', 'HIGH', 15.171],\n",
       "       [43, 'M', 'LOW', 'NORMAL', 19.368],\n",
       "       [47, 'F', 'LOW', 'HIGH', 11.767],\n",
       "       [34, 'F', 'HIGH', 'NORMAL', 19.199],\n",
       "       [43, 'M', 'LOW', 'HIGH', 15.376],\n",
       "       [74, 'F', 'LOW', 'HIGH', 20.942],\n",
       "       [50, 'F', 'NORMAL', 'HIGH', 12.703],\n",
       "       [16, 'F', 'HIGH', 'NORMAL', 15.516],\n",
       "       [69, 'M', 'LOW', 'NORMAL', 11.455],\n",
       "       [43, 'M', 'HIGH', 'HIGH', 13.972],\n",
       "       [23, 'M', 'LOW', 'HIGH', 7.298],\n",
       "       [32, 'F', 'HIGH', 'NORMAL', 25.974],\n",
       "       [57, 'M', 'LOW', 'NORMAL', 19.128],\n",
       "       [63, 'M', 'NORMAL', 'HIGH', 25.917],\n",
       "       [47, 'M', 'LOW', 'NORMAL', 30.568],\n",
       "       [48, 'F', 'LOW', 'HIGH', 15.036],\n",
       "       [33, 'F', 'LOW', 'HIGH', 33.486],\n",
       "       [28, 'F', 'HIGH', 'NORMAL', 18.809],\n",
       "       [31, 'M', 'HIGH', 'HIGH', 30.366],\n",
       "       [49, 'F', 'NORMAL', 'NORMAL', 9.381],\n",
       "       [39, 'F', 'LOW', 'NORMAL', 22.697],\n",
       "       [45, 'M', 'LOW', 'HIGH', 17.951],\n",
       "       [18, 'F', 'NORMAL', 'NORMAL', 8.75],\n",
       "       [74, 'M', 'HIGH', 'HIGH', 9.567],\n",
       "       [49, 'M', 'LOW', 'NORMAL', 11.014],\n",
       "       [65, 'F', 'HIGH', 'NORMAL', 31.876],\n",
       "       [53, 'M', 'NORMAL', 'HIGH', 14.133],\n",
       "       [46, 'M', 'NORMAL', 'NORMAL', 7.285],\n",
       "       [32, 'M', 'HIGH', 'NORMAL', 9.445],\n",
       "       [39, 'M', 'LOW', 'NORMAL', 13.938],\n",
       "       [39, 'F', 'NORMAL', 'NORMAL', 9.709],\n",
       "       [15, 'M', 'NORMAL', 'HIGH', 9.084],\n",
       "       [73, 'F', 'NORMAL', 'HIGH', 19.221],\n",
       "       [58, 'F', 'HIGH', 'NORMAL', 14.239],\n",
       "       [50, 'M', 'NORMAL', 'NORMAL', 15.79],\n",
       "       [23, 'M', 'NORMAL', 'HIGH', 12.26],\n",
       "       [50, 'F', 'NORMAL', 'NORMAL', 12.295],\n",
       "       [66, 'F', 'NORMAL', 'NORMAL', 8.107],\n",
       "       [37, 'F', 'HIGH', 'HIGH', 13.091],\n",
       "       [68, 'M', 'LOW', 'HIGH', 10.291],\n",
       "       [23, 'M', 'NORMAL', 'HIGH', 31.686],\n",
       "       [28, 'F', 'LOW', 'HIGH', 19.796],\n",
       "       [58, 'F', 'HIGH', 'HIGH', 19.416],\n",
       "       [67, 'M', 'NORMAL', 'NORMAL', 10.898],\n",
       "       [62, 'M', 'LOW', 'NORMAL', 27.183],\n",
       "       [24, 'F', 'HIGH', 'NORMAL', 18.457],\n",
       "       [68, 'F', 'HIGH', 'NORMAL', 10.189],\n",
       "       [26, 'F', 'LOW', 'HIGH', 14.16],\n",
       "       [65, 'M', 'HIGH', 'NORMAL', 11.34],\n",
       "       [40, 'M', 'HIGH', 'HIGH', 27.826],\n",
       "       [60, 'M', 'NORMAL', 'NORMAL', 10.091],\n",
       "       [34, 'M', 'HIGH', 'HIGH', 18.703],\n",
       "       [38, 'F', 'LOW', 'NORMAL', 29.875],\n",
       "       [24, 'M', 'HIGH', 'NORMAL', 9.475],\n",
       "       [67, 'M', 'LOW', 'NORMAL', 20.693],\n",
       "       [45, 'M', 'LOW', 'NORMAL', 8.37],\n",
       "       [60, 'F', 'HIGH', 'HIGH', 13.303],\n",
       "       [68, 'F', 'NORMAL', 'NORMAL', 27.05],\n",
       "       [29, 'M', 'HIGH', 'HIGH', 12.856],\n",
       "       [17, 'M', 'NORMAL', 'NORMAL', 10.832],\n",
       "       [54, 'M', 'NORMAL', 'HIGH', 24.658],\n",
       "       [18, 'F', 'HIGH', 'NORMAL', 24.276],\n",
       "       [70, 'M', 'HIGH', 'HIGH', 13.967],\n",
       "       [28, 'F', 'NORMAL', 'HIGH', 19.675],\n",
       "       [24, 'F', 'NORMAL', 'HIGH', 10.605],\n",
       "       [41, 'F', 'NORMAL', 'NORMAL', 22.905],\n",
       "       [31, 'M', 'HIGH', 'NORMAL', 17.069],\n",
       "       [26, 'M', 'LOW', 'NORMAL', 20.909],\n",
       "       [36, 'F', 'HIGH', 'HIGH', 11.198],\n",
       "       [26, 'F', 'HIGH', 'NORMAL', 19.161],\n",
       "       [19, 'F', 'HIGH', 'HIGH', 13.313],\n",
       "       [32, 'F', 'LOW', 'NORMAL', 10.84],\n",
       "       [60, 'M', 'HIGH', 'HIGH', 13.934],\n",
       "       [64, 'M', 'NORMAL', 'HIGH', 7.761],\n",
       "       [32, 'F', 'LOW', 'HIGH', 9.712],\n",
       "       [38, 'F', 'HIGH', 'NORMAL', 11.326],\n",
       "       [47, 'F', 'LOW', 'HIGH', 10.067],\n",
       "       [59, 'M', 'HIGH', 'HIGH', 13.935],\n",
       "       [51, 'F', 'NORMAL', 'HIGH', 13.597],\n",
       "       [69, 'M', 'LOW', 'HIGH', 15.478],\n",
       "       [37, 'F', 'HIGH', 'NORMAL', 23.091],\n",
       "       [50, 'F', 'NORMAL', 'NORMAL', 17.211],\n",
       "       [62, 'M', 'NORMAL', 'HIGH', 16.594],\n",
       "       [41, 'M', 'HIGH', 'NORMAL', 15.156],\n",
       "       [29, 'F', 'HIGH', 'HIGH', 29.45],\n",
       "       [42, 'F', 'LOW', 'NORMAL', 29.271],\n",
       "       [56, 'M', 'LOW', 'HIGH', 15.015],\n",
       "       [36, 'M', 'LOW', 'NORMAL', 11.424],\n",
       "       [58, 'F', 'LOW', 'HIGH', 38.247],\n",
       "       [56, 'F', 'HIGH', 'HIGH', 25.395],\n",
       "       [20, 'M', 'HIGH', 'NORMAL', 35.639],\n",
       "       [15, 'F', 'HIGH', 'NORMAL', 16.725],\n",
       "       [31, 'M', 'HIGH', 'NORMAL', 11.871],\n",
       "       [45, 'F', 'HIGH', 'HIGH', 12.854],\n",
       "       [28, 'F', 'LOW', 'HIGH', 13.127],\n",
       "       [56, 'M', 'NORMAL', 'HIGH', 8.966],\n",
       "       [22, 'M', 'HIGH', 'NORMAL', 28.294],\n",
       "       [37, 'M', 'LOW', 'NORMAL', 8.968],\n",
       "       [22, 'M', 'NORMAL', 'HIGH', 11.953],\n",
       "       [42, 'M', 'LOW', 'HIGH', 20.013],\n",
       "       [72, 'M', 'HIGH', 'NORMAL', 9.677],\n",
       "       [23, 'M', 'NORMAL', 'HIGH', 16.85],\n",
       "       [50, 'M', 'HIGH', 'HIGH', 7.49],\n",
       "       [47, 'F', 'NORMAL', 'NORMAL', 6.683],\n",
       "       [35, 'M', 'LOW', 'NORMAL', 9.17],\n",
       "       [65, 'F', 'LOW', 'NORMAL', 13.769],\n",
       "       [20, 'F', 'NORMAL', 'NORMAL', 9.281],\n",
       "       [51, 'M', 'HIGH', 'HIGH', 18.295],\n",
       "       [67, 'M', 'NORMAL', 'NORMAL', 9.514],\n",
       "       [40, 'F', 'NORMAL', 'HIGH', 10.103],\n",
       "       [32, 'F', 'HIGH', 'NORMAL', 10.292],\n",
       "       [61, 'F', 'HIGH', 'HIGH', 25.475],\n",
       "       [28, 'M', 'NORMAL', 'HIGH', 27.064],\n",
       "       [15, 'M', 'HIGH', 'NORMAL', 17.206],\n",
       "       [34, 'M', 'NORMAL', 'HIGH', 22.456],\n",
       "       [36, 'F', 'NORMAL', 'HIGH', 16.753],\n",
       "       [53, 'F', 'HIGH', 'NORMAL', 12.495],\n",
       "       [19, 'F', 'HIGH', 'NORMAL', 25.969],\n",
       "       [66, 'M', 'HIGH', 'HIGH', 16.347],\n",
       "       [35, 'M', 'NORMAL', 'NORMAL', 7.845],\n",
       "       [47, 'M', 'LOW', 'NORMAL', 33.542],\n",
       "       [32, 'F', 'NORMAL', 'HIGH', 7.477],\n",
       "       [70, 'F', 'NORMAL', 'HIGH', 20.489],\n",
       "       [52, 'M', 'LOW', 'NORMAL', 32.922],\n",
       "       [49, 'M', 'LOW', 'NORMAL', 13.598],\n",
       "       [24, 'M', 'NORMAL', 'HIGH', 25.786],\n",
       "       [42, 'F', 'HIGH', 'HIGH', 21.036],\n",
       "       [74, 'M', 'LOW', 'NORMAL', 11.939],\n",
       "       [55, 'F', 'HIGH', 'HIGH', 10.977],\n",
       "       [35, 'F', 'HIGH', 'HIGH', 12.894],\n",
       "       [51, 'M', 'HIGH', 'NORMAL', 11.343],\n",
       "       [69, 'F', 'NORMAL', 'HIGH', 10.065],\n",
       "       [49, 'M', 'HIGH', 'NORMAL', 6.269],\n",
       "       [64, 'F', 'LOW', 'NORMAL', 25.741],\n",
       "       [60, 'M', 'HIGH', 'NORMAL', 8.621],\n",
       "       [74, 'M', 'HIGH', 'NORMAL', 15.436],\n",
       "       [39, 'M', 'HIGH', 'HIGH', 9.664],\n",
       "       [61, 'M', 'NORMAL', 'HIGH', 9.443],\n",
       "       [37, 'F', 'LOW', 'NORMAL', 12.006],\n",
       "       [26, 'F', 'HIGH', 'NORMAL', 12.307],\n",
       "       [61, 'F', 'LOW', 'NORMAL', 7.34],\n",
       "       [22, 'M', 'LOW', 'HIGH', 8.151],\n",
       "       [49, 'M', 'HIGH', 'NORMAL', 8.7],\n",
       "       [68, 'M', 'HIGH', 'HIGH', 11.009],\n",
       "       [55, 'M', 'NORMAL', 'NORMAL', 7.261],\n",
       "       [72, 'F', 'LOW', 'NORMAL', 14.642],\n",
       "       [37, 'M', 'LOW', 'NORMAL', 16.724],\n",
       "       [49, 'M', 'LOW', 'HIGH', 10.537],\n",
       "       [31, 'M', 'HIGH', 'NORMAL', 11.227],\n",
       "       [53, 'M', 'LOW', 'HIGH', 22.963],\n",
       "       [59, 'F', 'LOW', 'HIGH', 10.444],\n",
       "       [34, 'F', 'LOW', 'NORMAL', 12.923],\n",
       "       [30, 'F', 'NORMAL', 'HIGH', 10.443],\n",
       "       [57, 'F', 'HIGH', 'NORMAL', 9.945],\n",
       "       [43, 'M', 'NORMAL', 'NORMAL', 12.859],\n",
       "       [21, 'F', 'HIGH', 'NORMAL', 28.632],\n",
       "       [16, 'M', 'HIGH', 'NORMAL', 19.007],\n",
       "       [38, 'M', 'LOW', 'HIGH', 18.295],\n",
       "       [58, 'F', 'LOW', 'HIGH', 26.645],\n",
       "       [57, 'F', 'NORMAL', 'HIGH', 14.216],\n",
       "       [51, 'F', 'LOW', 'NORMAL', 23.003],\n",
       "       [20, 'F', 'HIGH', 'HIGH', 11.262],\n",
       "       [28, 'F', 'NORMAL', 'HIGH', 12.879],\n",
       "       [45, 'M', 'LOW', 'NORMAL', 10.017],\n",
       "       [39, 'F', 'NORMAL', 'NORMAL', 17.225],\n",
       "       [41, 'F', 'LOW', 'NORMAL', 18.739],\n",
       "       [42, 'M', 'HIGH', 'NORMAL', 12.766],\n",
       "       [73, 'F', 'HIGH', 'HIGH', 18.348],\n",
       "       [48, 'M', 'HIGH', 'NORMAL', 10.446],\n",
       "       [25, 'M', 'NORMAL', 'HIGH', 19.011],\n",
       "       [39, 'M', 'NORMAL', 'HIGH', 15.969],\n",
       "       [67, 'F', 'NORMAL', 'HIGH', 15.891],\n",
       "       [22, 'F', 'HIGH', 'NORMAL', 22.818],\n",
       "       [59, 'F', 'NORMAL', 'HIGH', 13.884],\n",
       "       [20, 'F', 'LOW', 'NORMAL', 11.686],\n",
       "       [36, 'F', 'HIGH', 'NORMAL', 15.49],\n",
       "       [18, 'F', 'HIGH', 'HIGH', 37.188],\n",
       "       [57, 'F', 'NORMAL', 'NORMAL', 25.893],\n",
       "       [70, 'M', 'HIGH', 'HIGH', 9.849],\n",
       "       [47, 'M', 'HIGH', 'HIGH', 10.403],\n",
       "       [65, 'M', 'HIGH', 'NORMAL', 34.997],\n",
       "       [64, 'M', 'HIGH', 'NORMAL', 20.932],\n",
       "       [58, 'M', 'HIGH', 'HIGH', 18.991],\n",
       "       [23, 'M', 'HIGH', 'HIGH', 8.011],\n",
       "       [72, 'M', 'LOW', 'HIGH', 16.31],\n",
       "       [72, 'M', 'LOW', 'HIGH', 6.769],\n",
       "       [46, 'F', 'HIGH', 'HIGH', 34.686],\n",
       "       [56, 'F', 'LOW', 'HIGH', 11.567],\n",
       "       [16, 'M', 'LOW', 'HIGH', 12.006],\n",
       "       [52, 'M', 'NORMAL', 'HIGH', 9.894],\n",
       "       [23, 'M', 'NORMAL', 'NORMAL', 14.02],\n",
       "       [40, 'F', 'LOW', 'NORMAL', 11.349]], dtype=object)"
      ]
     },
     "execution_count": 72,
     "metadata": {},
     "output_type": "execute_result"
    }
   ],
   "source": [
    "x"
   ]
  },
  {
   "cell_type": "code",
   "execution_count": 73,
   "id": "ba0b2458",
   "metadata": {},
   "outputs": [
    {
     "data": {
      "text/plain": [
       "0      drugY\n",
       "1      drugC\n",
       "2      drugC\n",
       "3      drugX\n",
       "4      drugY\n",
       "       ...  \n",
       "195    drugC\n",
       "196    drugC\n",
       "197    drugX\n",
       "198    drugX\n",
       "199    drugX\n",
       "Name: Drug, Length: 200, dtype: object"
      ]
     },
     "execution_count": 73,
     "metadata": {},
     "output_type": "execute_result"
    }
   ],
   "source": [
    "y"
   ]
  },
  {
   "cell_type": "code",
   "execution_count": 74,
   "id": "a00033ed",
   "metadata": {},
   "outputs": [
    {
     "data": {
      "text/html": [
       "<style>#sk-container-id-10 {color: black;background-color: white;}#sk-container-id-10 pre{padding: 0;}#sk-container-id-10 div.sk-toggleable {background-color: white;}#sk-container-id-10 label.sk-toggleable__label {cursor: pointer;display: block;width: 100%;margin-bottom: 0;padding: 0.3em;box-sizing: border-box;text-align: center;}#sk-container-id-10 label.sk-toggleable__label-arrow:before {content: \"▸\";float: left;margin-right: 0.25em;color: #696969;}#sk-container-id-10 label.sk-toggleable__label-arrow:hover:before {color: black;}#sk-container-id-10 div.sk-estimator:hover label.sk-toggleable__label-arrow:before {color: black;}#sk-container-id-10 div.sk-toggleable__content {max-height: 0;max-width: 0;overflow: hidden;text-align: left;background-color: #f0f8ff;}#sk-container-id-10 div.sk-toggleable__content pre {margin: 0.2em;color: black;border-radius: 0.25em;background-color: #f0f8ff;}#sk-container-id-10 input.sk-toggleable__control:checked~div.sk-toggleable__content {max-height: 200px;max-width: 100%;overflow: auto;}#sk-container-id-10 input.sk-toggleable__control:checked~label.sk-toggleable__label-arrow:before {content: \"▾\";}#sk-container-id-10 div.sk-estimator input.sk-toggleable__control:checked~label.sk-toggleable__label {background-color: #d4ebff;}#sk-container-id-10 div.sk-label input.sk-toggleable__control:checked~label.sk-toggleable__label {background-color: #d4ebff;}#sk-container-id-10 input.sk-hidden--visually {border: 0;clip: rect(1px 1px 1px 1px);clip: rect(1px, 1px, 1px, 1px);height: 1px;margin: -1px;overflow: hidden;padding: 0;position: absolute;width: 1px;}#sk-container-id-10 div.sk-estimator {font-family: monospace;background-color: #f0f8ff;border: 1px dotted black;border-radius: 0.25em;box-sizing: border-box;margin-bottom: 0.5em;}#sk-container-id-10 div.sk-estimator:hover {background-color: #d4ebff;}#sk-container-id-10 div.sk-parallel-item::after {content: \"\";width: 100%;border-bottom: 1px solid gray;flex-grow: 1;}#sk-container-id-10 div.sk-label:hover label.sk-toggleable__label {background-color: #d4ebff;}#sk-container-id-10 div.sk-serial::before {content: \"\";position: absolute;border-left: 1px solid gray;box-sizing: border-box;top: 0;bottom: 0;left: 50%;z-index: 0;}#sk-container-id-10 div.sk-serial {display: flex;flex-direction: column;align-items: center;background-color: white;padding-right: 0.2em;padding-left: 0.2em;position: relative;}#sk-container-id-10 div.sk-item {position: relative;z-index: 1;}#sk-container-id-10 div.sk-parallel {display: flex;align-items: stretch;justify-content: center;background-color: white;position: relative;}#sk-container-id-10 div.sk-item::before, #sk-container-id-10 div.sk-parallel-item::before {content: \"\";position: absolute;border-left: 1px solid gray;box-sizing: border-box;top: 0;bottom: 0;left: 50%;z-index: -1;}#sk-container-id-10 div.sk-parallel-item {display: flex;flex-direction: column;z-index: 1;position: relative;background-color: white;}#sk-container-id-10 div.sk-parallel-item:first-child::after {align-self: flex-end;width: 50%;}#sk-container-id-10 div.sk-parallel-item:last-child::after {align-self: flex-start;width: 50%;}#sk-container-id-10 div.sk-parallel-item:only-child::after {width: 0;}#sk-container-id-10 div.sk-dashed-wrapped {border: 1px dashed gray;margin: 0 0.4em 0.5em 0.4em;box-sizing: border-box;padding-bottom: 0.4em;background-color: white;}#sk-container-id-10 div.sk-label label {font-family: monospace;font-weight: bold;display: inline-block;line-height: 1.2em;}#sk-container-id-10 div.sk-label-container {text-align: center;}#sk-container-id-10 div.sk-container {/* jupyter's `normalize.less` sets `[hidden] { display: none; }` but bootstrap.min.css set `[hidden] { display: none !important; }` so we also need the `!important` here to be able to override the default hidden behavior on the sphinx rendered scikit-learn.org. See: https://github.com/scikit-learn/scikit-learn/issues/21755 */display: inline-block !important;position: relative;}#sk-container-id-10 div.sk-text-repr-fallback {display: none;}</style><div id=\"sk-container-id-10\" class=\"sk-top-container\"><div class=\"sk-text-repr-fallback\"><pre>LabelEncoder()</pre><b>In a Jupyter environment, please rerun this cell to show the HTML representation or trust the notebook. <br />On GitHub, the HTML representation is unable to render, please try loading this page with nbviewer.org.</b></div><div class=\"sk-container\" hidden><div class=\"sk-item\"><div class=\"sk-estimator sk-toggleable\"><input class=\"sk-toggleable__control sk-hidden--visually\" id=\"sk-estimator-id-10\" type=\"checkbox\" checked><label for=\"sk-estimator-id-10\" class=\"sk-toggleable__label sk-toggleable__label-arrow\">LabelEncoder</label><div class=\"sk-toggleable__content\"><pre>LabelEncoder()</pre></div></div></div></div></div>"
      ],
      "text/plain": [
       "LabelEncoder()"
      ]
     },
     "execution_count": 74,
     "metadata": {},
     "output_type": "execute_result"
    }
   ],
   "source": [
    "#Cambiando variables categoricas a numericas\n",
    "from sklearn import preprocessing\n",
    "Cod_Sex = preprocessing.LabelEncoder()\n",
    "Cod_Sex.fit([\"F\",\"M\"])"
   ]
  },
  {
   "cell_type": "code",
   "execution_count": 75,
   "id": "fb49e534",
   "metadata": {},
   "outputs": [],
   "source": [
    "x[:,1] = Cod_Sex.transform(x[:,1])"
   ]
  },
  {
   "cell_type": "code",
   "execution_count": 76,
   "id": "721b109e",
   "metadata": {},
   "outputs": [
    {
     "data": {
      "text/html": [
       "<style>#sk-container-id-11 {color: black;background-color: white;}#sk-container-id-11 pre{padding: 0;}#sk-container-id-11 div.sk-toggleable {background-color: white;}#sk-container-id-11 label.sk-toggleable__label {cursor: pointer;display: block;width: 100%;margin-bottom: 0;padding: 0.3em;box-sizing: border-box;text-align: center;}#sk-container-id-11 label.sk-toggleable__label-arrow:before {content: \"▸\";float: left;margin-right: 0.25em;color: #696969;}#sk-container-id-11 label.sk-toggleable__label-arrow:hover:before {color: black;}#sk-container-id-11 div.sk-estimator:hover label.sk-toggleable__label-arrow:before {color: black;}#sk-container-id-11 div.sk-toggleable__content {max-height: 0;max-width: 0;overflow: hidden;text-align: left;background-color: #f0f8ff;}#sk-container-id-11 div.sk-toggleable__content pre {margin: 0.2em;color: black;border-radius: 0.25em;background-color: #f0f8ff;}#sk-container-id-11 input.sk-toggleable__control:checked~div.sk-toggleable__content {max-height: 200px;max-width: 100%;overflow: auto;}#sk-container-id-11 input.sk-toggleable__control:checked~label.sk-toggleable__label-arrow:before {content: \"▾\";}#sk-container-id-11 div.sk-estimator input.sk-toggleable__control:checked~label.sk-toggleable__label {background-color: #d4ebff;}#sk-container-id-11 div.sk-label input.sk-toggleable__control:checked~label.sk-toggleable__label {background-color: #d4ebff;}#sk-container-id-11 input.sk-hidden--visually {border: 0;clip: rect(1px 1px 1px 1px);clip: rect(1px, 1px, 1px, 1px);height: 1px;margin: -1px;overflow: hidden;padding: 0;position: absolute;width: 1px;}#sk-container-id-11 div.sk-estimator {font-family: monospace;background-color: #f0f8ff;border: 1px dotted black;border-radius: 0.25em;box-sizing: border-box;margin-bottom: 0.5em;}#sk-container-id-11 div.sk-estimator:hover {background-color: #d4ebff;}#sk-container-id-11 div.sk-parallel-item::after {content: \"\";width: 100%;border-bottom: 1px solid gray;flex-grow: 1;}#sk-container-id-11 div.sk-label:hover label.sk-toggleable__label {background-color: #d4ebff;}#sk-container-id-11 div.sk-serial::before {content: \"\";position: absolute;border-left: 1px solid gray;box-sizing: border-box;top: 0;bottom: 0;left: 50%;z-index: 0;}#sk-container-id-11 div.sk-serial {display: flex;flex-direction: column;align-items: center;background-color: white;padding-right: 0.2em;padding-left: 0.2em;position: relative;}#sk-container-id-11 div.sk-item {position: relative;z-index: 1;}#sk-container-id-11 div.sk-parallel {display: flex;align-items: stretch;justify-content: center;background-color: white;position: relative;}#sk-container-id-11 div.sk-item::before, #sk-container-id-11 div.sk-parallel-item::before {content: \"\";position: absolute;border-left: 1px solid gray;box-sizing: border-box;top: 0;bottom: 0;left: 50%;z-index: -1;}#sk-container-id-11 div.sk-parallel-item {display: flex;flex-direction: column;z-index: 1;position: relative;background-color: white;}#sk-container-id-11 div.sk-parallel-item:first-child::after {align-self: flex-end;width: 50%;}#sk-container-id-11 div.sk-parallel-item:last-child::after {align-self: flex-start;width: 50%;}#sk-container-id-11 div.sk-parallel-item:only-child::after {width: 0;}#sk-container-id-11 div.sk-dashed-wrapped {border: 1px dashed gray;margin: 0 0.4em 0.5em 0.4em;box-sizing: border-box;padding-bottom: 0.4em;background-color: white;}#sk-container-id-11 div.sk-label label {font-family: monospace;font-weight: bold;display: inline-block;line-height: 1.2em;}#sk-container-id-11 div.sk-label-container {text-align: center;}#sk-container-id-11 div.sk-container {/* jupyter's `normalize.less` sets `[hidden] { display: none; }` but bootstrap.min.css set `[hidden] { display: none !important; }` so we also need the `!important` here to be able to override the default hidden behavior on the sphinx rendered scikit-learn.org. See: https://github.com/scikit-learn/scikit-learn/issues/21755 */display: inline-block !important;position: relative;}#sk-container-id-11 div.sk-text-repr-fallback {display: none;}</style><div id=\"sk-container-id-11\" class=\"sk-top-container\"><div class=\"sk-text-repr-fallback\"><pre>LabelEncoder()</pre><b>In a Jupyter environment, please rerun this cell to show the HTML representation or trust the notebook. <br />On GitHub, the HTML representation is unable to render, please try loading this page with nbviewer.org.</b></div><div class=\"sk-container\" hidden><div class=\"sk-item\"><div class=\"sk-estimator sk-toggleable\"><input class=\"sk-toggleable__control sk-hidden--visually\" id=\"sk-estimator-id-11\" type=\"checkbox\" checked><label for=\"sk-estimator-id-11\" class=\"sk-toggleable__label sk-toggleable__label-arrow\">LabelEncoder</label><div class=\"sk-toggleable__content\"><pre>LabelEncoder()</pre></div></div></div></div></div>"
      ],
      "text/plain": [
       "LabelEncoder()"
      ]
     },
     "execution_count": 76,
     "metadata": {},
     "output_type": "execute_result"
    }
   ],
   "source": [
    "Cod_BP = preprocessing.LabelEncoder()\n",
    "Cod_BP.fit([\"HIGH\",\"NORMAL\",\"LOW\"])"
   ]
  },
  {
   "cell_type": "code",
   "execution_count": 77,
   "id": "e108185f",
   "metadata": {},
   "outputs": [],
   "source": [
    "x[:,2] = Cod_BP.transform(x[:,2])"
   ]
  },
  {
   "cell_type": "code",
   "execution_count": 78,
   "id": "3c253f23",
   "metadata": {},
   "outputs": [
    {
     "data": {
      "text/html": [
       "<style>#sk-container-id-12 {color: black;background-color: white;}#sk-container-id-12 pre{padding: 0;}#sk-container-id-12 div.sk-toggleable {background-color: white;}#sk-container-id-12 label.sk-toggleable__label {cursor: pointer;display: block;width: 100%;margin-bottom: 0;padding: 0.3em;box-sizing: border-box;text-align: center;}#sk-container-id-12 label.sk-toggleable__label-arrow:before {content: \"▸\";float: left;margin-right: 0.25em;color: #696969;}#sk-container-id-12 label.sk-toggleable__label-arrow:hover:before {color: black;}#sk-container-id-12 div.sk-estimator:hover label.sk-toggleable__label-arrow:before {color: black;}#sk-container-id-12 div.sk-toggleable__content {max-height: 0;max-width: 0;overflow: hidden;text-align: left;background-color: #f0f8ff;}#sk-container-id-12 div.sk-toggleable__content pre {margin: 0.2em;color: black;border-radius: 0.25em;background-color: #f0f8ff;}#sk-container-id-12 input.sk-toggleable__control:checked~div.sk-toggleable__content {max-height: 200px;max-width: 100%;overflow: auto;}#sk-container-id-12 input.sk-toggleable__control:checked~label.sk-toggleable__label-arrow:before {content: \"▾\";}#sk-container-id-12 div.sk-estimator input.sk-toggleable__control:checked~label.sk-toggleable__label {background-color: #d4ebff;}#sk-container-id-12 div.sk-label input.sk-toggleable__control:checked~label.sk-toggleable__label {background-color: #d4ebff;}#sk-container-id-12 input.sk-hidden--visually {border: 0;clip: rect(1px 1px 1px 1px);clip: rect(1px, 1px, 1px, 1px);height: 1px;margin: -1px;overflow: hidden;padding: 0;position: absolute;width: 1px;}#sk-container-id-12 div.sk-estimator {font-family: monospace;background-color: #f0f8ff;border: 1px dotted black;border-radius: 0.25em;box-sizing: border-box;margin-bottom: 0.5em;}#sk-container-id-12 div.sk-estimator:hover {background-color: #d4ebff;}#sk-container-id-12 div.sk-parallel-item::after {content: \"\";width: 100%;border-bottom: 1px solid gray;flex-grow: 1;}#sk-container-id-12 div.sk-label:hover label.sk-toggleable__label {background-color: #d4ebff;}#sk-container-id-12 div.sk-serial::before {content: \"\";position: absolute;border-left: 1px solid gray;box-sizing: border-box;top: 0;bottom: 0;left: 50%;z-index: 0;}#sk-container-id-12 div.sk-serial {display: flex;flex-direction: column;align-items: center;background-color: white;padding-right: 0.2em;padding-left: 0.2em;position: relative;}#sk-container-id-12 div.sk-item {position: relative;z-index: 1;}#sk-container-id-12 div.sk-parallel {display: flex;align-items: stretch;justify-content: center;background-color: white;position: relative;}#sk-container-id-12 div.sk-item::before, #sk-container-id-12 div.sk-parallel-item::before {content: \"\";position: absolute;border-left: 1px solid gray;box-sizing: border-box;top: 0;bottom: 0;left: 50%;z-index: -1;}#sk-container-id-12 div.sk-parallel-item {display: flex;flex-direction: column;z-index: 1;position: relative;background-color: white;}#sk-container-id-12 div.sk-parallel-item:first-child::after {align-self: flex-end;width: 50%;}#sk-container-id-12 div.sk-parallel-item:last-child::after {align-self: flex-start;width: 50%;}#sk-container-id-12 div.sk-parallel-item:only-child::after {width: 0;}#sk-container-id-12 div.sk-dashed-wrapped {border: 1px dashed gray;margin: 0 0.4em 0.5em 0.4em;box-sizing: border-box;padding-bottom: 0.4em;background-color: white;}#sk-container-id-12 div.sk-label label {font-family: monospace;font-weight: bold;display: inline-block;line-height: 1.2em;}#sk-container-id-12 div.sk-label-container {text-align: center;}#sk-container-id-12 div.sk-container {/* jupyter's `normalize.less` sets `[hidden] { display: none; }` but bootstrap.min.css set `[hidden] { display: none !important; }` so we also need the `!important` here to be able to override the default hidden behavior on the sphinx rendered scikit-learn.org. See: https://github.com/scikit-learn/scikit-learn/issues/21755 */display: inline-block !important;position: relative;}#sk-container-id-12 div.sk-text-repr-fallback {display: none;}</style><div id=\"sk-container-id-12\" class=\"sk-top-container\"><div class=\"sk-text-repr-fallback\"><pre>LabelEncoder()</pre><b>In a Jupyter environment, please rerun this cell to show the HTML representation or trust the notebook. <br />On GitHub, the HTML representation is unable to render, please try loading this page with nbviewer.org.</b></div><div class=\"sk-container\" hidden><div class=\"sk-item\"><div class=\"sk-estimator sk-toggleable\"><input class=\"sk-toggleable__control sk-hidden--visually\" id=\"sk-estimator-id-12\" type=\"checkbox\" checked><label for=\"sk-estimator-id-12\" class=\"sk-toggleable__label sk-toggleable__label-arrow\">LabelEncoder</label><div class=\"sk-toggleable__content\"><pre>LabelEncoder()</pre></div></div></div></div></div>"
      ],
      "text/plain": [
       "LabelEncoder()"
      ]
     },
     "execution_count": 78,
     "metadata": {},
     "output_type": "execute_result"
    }
   ],
   "source": [
    "Cod_Cholesterol = preprocessing.LabelEncoder()\n",
    "Cod_Cholesterol.fit(['HIGH', 'NORMAL'])"
   ]
  },
  {
   "cell_type": "code",
   "execution_count": 79,
   "id": "aa6c2c79",
   "metadata": {},
   "outputs": [],
   "source": [
    "x[:,3] = Cod_Cholesterol.transform(x[:,3])"
   ]
  },
  {
   "cell_type": "code",
   "execution_count": 80,
   "id": "296cfab8",
   "metadata": {},
   "outputs": [
    {
     "data": {
      "text/plain": [
       "array([[23, 0, 0, 0, 25.355],\n",
       "       [47, 1, 1, 0, 13.093],\n",
       "       [47, 1, 1, 0, 10.114],\n",
       "       [28, 0, 2, 0, 7.798],\n",
       "       [61, 0, 1, 0, 18.043],\n",
       "       [22, 0, 2, 0, 8.607],\n",
       "       [49, 0, 2, 0, 16.275],\n",
       "       [41, 1, 1, 0, 11.037],\n",
       "       [60, 1, 2, 0, 15.171],\n",
       "       [43, 1, 1, 1, 19.368],\n",
       "       [47, 0, 1, 0, 11.767],\n",
       "       [34, 0, 0, 1, 19.199],\n",
       "       [43, 1, 1, 0, 15.376],\n",
       "       [74, 0, 1, 0, 20.942],\n",
       "       [50, 0, 2, 0, 12.703],\n",
       "       [16, 0, 0, 1, 15.516],\n",
       "       [69, 1, 1, 1, 11.455],\n",
       "       [43, 1, 0, 0, 13.972],\n",
       "       [23, 1, 1, 0, 7.298],\n",
       "       [32, 0, 0, 1, 25.974],\n",
       "       [57, 1, 1, 1, 19.128],\n",
       "       [63, 1, 2, 0, 25.917],\n",
       "       [47, 1, 1, 1, 30.568],\n",
       "       [48, 0, 1, 0, 15.036],\n",
       "       [33, 0, 1, 0, 33.486],\n",
       "       [28, 0, 0, 1, 18.809],\n",
       "       [31, 1, 0, 0, 30.366],\n",
       "       [49, 0, 2, 1, 9.381],\n",
       "       [39, 0, 1, 1, 22.697],\n",
       "       [45, 1, 1, 0, 17.951],\n",
       "       [18, 0, 2, 1, 8.75],\n",
       "       [74, 1, 0, 0, 9.567],\n",
       "       [49, 1, 1, 1, 11.014],\n",
       "       [65, 0, 0, 1, 31.876],\n",
       "       [53, 1, 2, 0, 14.133],\n",
       "       [46, 1, 2, 1, 7.285],\n",
       "       [32, 1, 0, 1, 9.445],\n",
       "       [39, 1, 1, 1, 13.938],\n",
       "       [39, 0, 2, 1, 9.709],\n",
       "       [15, 1, 2, 0, 9.084],\n",
       "       [73, 0, 2, 0, 19.221],\n",
       "       [58, 0, 0, 1, 14.239],\n",
       "       [50, 1, 2, 1, 15.79],\n",
       "       [23, 1, 2, 0, 12.26],\n",
       "       [50, 0, 2, 1, 12.295],\n",
       "       [66, 0, 2, 1, 8.107],\n",
       "       [37, 0, 0, 0, 13.091],\n",
       "       [68, 1, 1, 0, 10.291],\n",
       "       [23, 1, 2, 0, 31.686],\n",
       "       [28, 0, 1, 0, 19.796],\n",
       "       [58, 0, 0, 0, 19.416],\n",
       "       [67, 1, 2, 1, 10.898],\n",
       "       [62, 1, 1, 1, 27.183],\n",
       "       [24, 0, 0, 1, 18.457],\n",
       "       [68, 0, 0, 1, 10.189],\n",
       "       [26, 0, 1, 0, 14.16],\n",
       "       [65, 1, 0, 1, 11.34],\n",
       "       [40, 1, 0, 0, 27.826],\n",
       "       [60, 1, 2, 1, 10.091],\n",
       "       [34, 1, 0, 0, 18.703],\n",
       "       [38, 0, 1, 1, 29.875],\n",
       "       [24, 1, 0, 1, 9.475],\n",
       "       [67, 1, 1, 1, 20.693],\n",
       "       [45, 1, 1, 1, 8.37],\n",
       "       [60, 0, 0, 0, 13.303],\n",
       "       [68, 0, 2, 1, 27.05],\n",
       "       [29, 1, 0, 0, 12.856],\n",
       "       [17, 1, 2, 1, 10.832],\n",
       "       [54, 1, 2, 0, 24.658],\n",
       "       [18, 0, 0, 1, 24.276],\n",
       "       [70, 1, 0, 0, 13.967],\n",
       "       [28, 0, 2, 0, 19.675],\n",
       "       [24, 0, 2, 0, 10.605],\n",
       "       [41, 0, 2, 1, 22.905],\n",
       "       [31, 1, 0, 1, 17.069],\n",
       "       [26, 1, 1, 1, 20.909],\n",
       "       [36, 0, 0, 0, 11.198],\n",
       "       [26, 0, 0, 1, 19.161],\n",
       "       [19, 0, 0, 0, 13.313],\n",
       "       [32, 0, 1, 1, 10.84],\n",
       "       [60, 1, 0, 0, 13.934],\n",
       "       [64, 1, 2, 0, 7.761],\n",
       "       [32, 0, 1, 0, 9.712],\n",
       "       [38, 0, 0, 1, 11.326],\n",
       "       [47, 0, 1, 0, 10.067],\n",
       "       [59, 1, 0, 0, 13.935],\n",
       "       [51, 0, 2, 0, 13.597],\n",
       "       [69, 1, 1, 0, 15.478],\n",
       "       [37, 0, 0, 1, 23.091],\n",
       "       [50, 0, 2, 1, 17.211],\n",
       "       [62, 1, 2, 0, 16.594],\n",
       "       [41, 1, 0, 1, 15.156],\n",
       "       [29, 0, 0, 0, 29.45],\n",
       "       [42, 0, 1, 1, 29.271],\n",
       "       [56, 1, 1, 0, 15.015],\n",
       "       [36, 1, 1, 1, 11.424],\n",
       "       [58, 0, 1, 0, 38.247],\n",
       "       [56, 0, 0, 0, 25.395],\n",
       "       [20, 1, 0, 1, 35.639],\n",
       "       [15, 0, 0, 1, 16.725],\n",
       "       [31, 1, 0, 1, 11.871],\n",
       "       [45, 0, 0, 0, 12.854],\n",
       "       [28, 0, 1, 0, 13.127],\n",
       "       [56, 1, 2, 0, 8.966],\n",
       "       [22, 1, 0, 1, 28.294],\n",
       "       [37, 1, 1, 1, 8.968],\n",
       "       [22, 1, 2, 0, 11.953],\n",
       "       [42, 1, 1, 0, 20.013],\n",
       "       [72, 1, 0, 1, 9.677],\n",
       "       [23, 1, 2, 0, 16.85],\n",
       "       [50, 1, 0, 0, 7.49],\n",
       "       [47, 0, 2, 1, 6.683],\n",
       "       [35, 1, 1, 1, 9.17],\n",
       "       [65, 0, 1, 1, 13.769],\n",
       "       [20, 0, 2, 1, 9.281],\n",
       "       [51, 1, 0, 0, 18.295],\n",
       "       [67, 1, 2, 1, 9.514],\n",
       "       [40, 0, 2, 0, 10.103],\n",
       "       [32, 0, 0, 1, 10.292],\n",
       "       [61, 0, 0, 0, 25.475],\n",
       "       [28, 1, 2, 0, 27.064],\n",
       "       [15, 1, 0, 1, 17.206],\n",
       "       [34, 1, 2, 0, 22.456],\n",
       "       [36, 0, 2, 0, 16.753],\n",
       "       [53, 0, 0, 1, 12.495],\n",
       "       [19, 0, 0, 1, 25.969],\n",
       "       [66, 1, 0, 0, 16.347],\n",
       "       [35, 1, 2, 1, 7.845],\n",
       "       [47, 1, 1, 1, 33.542],\n",
       "       [32, 0, 2, 0, 7.477],\n",
       "       [70, 0, 2, 0, 20.489],\n",
       "       [52, 1, 1, 1, 32.922],\n",
       "       [49, 1, 1, 1, 13.598],\n",
       "       [24, 1, 2, 0, 25.786],\n",
       "       [42, 0, 0, 0, 21.036],\n",
       "       [74, 1, 1, 1, 11.939],\n",
       "       [55, 0, 0, 0, 10.977],\n",
       "       [35, 0, 0, 0, 12.894],\n",
       "       [51, 1, 0, 1, 11.343],\n",
       "       [69, 0, 2, 0, 10.065],\n",
       "       [49, 1, 0, 1, 6.269],\n",
       "       [64, 0, 1, 1, 25.741],\n",
       "       [60, 1, 0, 1, 8.621],\n",
       "       [74, 1, 0, 1, 15.436],\n",
       "       [39, 1, 0, 0, 9.664],\n",
       "       [61, 1, 2, 0, 9.443],\n",
       "       [37, 0, 1, 1, 12.006],\n",
       "       [26, 0, 0, 1, 12.307],\n",
       "       [61, 0, 1, 1, 7.34],\n",
       "       [22, 1, 1, 0, 8.151],\n",
       "       [49, 1, 0, 1, 8.7],\n",
       "       [68, 1, 0, 0, 11.009],\n",
       "       [55, 1, 2, 1, 7.261],\n",
       "       [72, 0, 1, 1, 14.642],\n",
       "       [37, 1, 1, 1, 16.724],\n",
       "       [49, 1, 1, 0, 10.537],\n",
       "       [31, 1, 0, 1, 11.227],\n",
       "       [53, 1, 1, 0, 22.963],\n",
       "       [59, 0, 1, 0, 10.444],\n",
       "       [34, 0, 1, 1, 12.923],\n",
       "       [30, 0, 2, 0, 10.443],\n",
       "       [57, 0, 0, 1, 9.945],\n",
       "       [43, 1, 2, 1, 12.859],\n",
       "       [21, 0, 0, 1, 28.632],\n",
       "       [16, 1, 0, 1, 19.007],\n",
       "       [38, 1, 1, 0, 18.295],\n",
       "       [58, 0, 1, 0, 26.645],\n",
       "       [57, 0, 2, 0, 14.216],\n",
       "       [51, 0, 1, 1, 23.003],\n",
       "       [20, 0, 0, 0, 11.262],\n",
       "       [28, 0, 2, 0, 12.879],\n",
       "       [45, 1, 1, 1, 10.017],\n",
       "       [39, 0, 2, 1, 17.225],\n",
       "       [41, 0, 1, 1, 18.739],\n",
       "       [42, 1, 0, 1, 12.766],\n",
       "       [73, 0, 0, 0, 18.348],\n",
       "       [48, 1, 0, 1, 10.446],\n",
       "       [25, 1, 2, 0, 19.011],\n",
       "       [39, 1, 2, 0, 15.969],\n",
       "       [67, 0, 2, 0, 15.891],\n",
       "       [22, 0, 0, 1, 22.818],\n",
       "       [59, 0, 2, 0, 13.884],\n",
       "       [20, 0, 1, 1, 11.686],\n",
       "       [36, 0, 0, 1, 15.49],\n",
       "       [18, 0, 0, 0, 37.188],\n",
       "       [57, 0, 2, 1, 25.893],\n",
       "       [70, 1, 0, 0, 9.849],\n",
       "       [47, 1, 0, 0, 10.403],\n",
       "       [65, 1, 0, 1, 34.997],\n",
       "       [64, 1, 0, 1, 20.932],\n",
       "       [58, 1, 0, 0, 18.991],\n",
       "       [23, 1, 0, 0, 8.011],\n",
       "       [72, 1, 1, 0, 16.31],\n",
       "       [72, 1, 1, 0, 6.769],\n",
       "       [46, 0, 0, 0, 34.686],\n",
       "       [56, 0, 1, 0, 11.567],\n",
       "       [16, 1, 1, 0, 12.006],\n",
       "       [52, 1, 2, 0, 9.894],\n",
       "       [23, 1, 2, 1, 14.02],\n",
       "       [40, 0, 1, 1, 11.349]], dtype=object)"
      ]
     },
     "execution_count": 80,
     "metadata": {},
     "output_type": "execute_result"
    }
   ],
   "source": [
    "x"
   ]
  },
  {
   "cell_type": "code",
   "execution_count": 81,
   "id": "0ed1bc31",
   "metadata": {},
   "outputs": [],
   "source": [
    "#Crear bases de entrenamiento y prueba\n",
    "from sklearn.model_selection import train_test_split\n"
   ]
  },
  {
   "cell_type": "code",
   "execution_count": 82,
   "id": "9441e09f",
   "metadata": {},
   "outputs": [],
   "source": [
    "x_train, x_test, y_train, y_test = train_test_split(x, y, test_size=0.3, random_state=1)"
   ]
  },
  {
   "cell_type": "code",
   "execution_count": 83,
   "id": "0ba4e1d4",
   "metadata": {},
   "outputs": [
    {
     "data": {
      "text/plain": [
       "140"
      ]
     },
     "execution_count": 83,
     "metadata": {},
     "output_type": "execute_result"
    }
   ],
   "source": [
    "len(x_train)"
   ]
  },
  {
   "cell_type": "code",
   "execution_count": 84,
   "id": "85b14c9a",
   "metadata": {},
   "outputs": [
    {
     "data": {
      "text/plain": [
       "60"
      ]
     },
     "execution_count": 84,
     "metadata": {},
     "output_type": "execute_result"
    }
   ],
   "source": [
    "len(x_test)"
   ]
  },
  {
   "cell_type": "code",
   "execution_count": 85,
   "id": "5d316503",
   "metadata": {},
   "outputs": [],
   "source": [
    "#Entrenamiento del modelo del arbol de decision \n",
    "from sklearn.tree import DecisionTreeClassifier\n",
    "from sklearn import metrics\n",
    "import matplotlib.pyplot as plt"
   ]
  },
  {
   "cell_type": "code",
   "execution_count": 86,
   "id": "9265f016",
   "metadata": {},
   "outputs": [
    {
     "data": {
      "text/plain": [
       "116    drugX\n",
       "67     drugX\n",
       "78     drugA\n",
       "42     drugY\n",
       "17     drugA\n",
       "       ...  \n",
       "133    drugY\n",
       "137    drugA\n",
       "72     drugX\n",
       "140    drugA\n",
       "37     drugX\n",
       "Name: Drug, Length: 140, dtype: object"
      ]
     },
     "execution_count": 86,
     "metadata": {},
     "output_type": "execute_result"
    }
   ],
   "source": [
    "y_train"
   ]
  },
  {
   "cell_type": "code",
   "execution_count": 87,
   "id": "1a8db189",
   "metadata": {},
   "outputs": [
    {
     "data": {
      "text/plain": [
       "array([[67, 1, 2, 1, 9.514],\n",
       "       [17, 1, 2, 1, 10.832],\n",
       "       [19, 0, 0, 0, 13.313],\n",
       "       [50, 1, 2, 1, 15.79],\n",
       "       [43, 1, 0, 0, 13.972],\n",
       "       [22, 0, 2, 0, 8.607],\n",
       "       [35, 1, 2, 1, 7.845],\n",
       "       [37, 1, 1, 1, 8.968],\n",
       "       [23, 1, 2, 0, 31.686],\n",
       "       [29, 1, 0, 0, 12.856],\n",
       "       [68, 0, 0, 1, 10.189],\n",
       "       [47, 0, 1, 0, 10.067],\n",
       "       [36, 0, 0, 1, 15.49],\n",
       "       [59, 0, 1, 0, 10.444],\n",
       "       [58, 0, 1, 0, 26.645],\n",
       "       [65, 0, 1, 1, 13.769],\n",
       "       [43, 1, 1, 0, 15.376],\n",
       "       [40, 0, 2, 0, 10.103],\n",
       "       [42, 0, 1, 1, 29.271],\n",
       "       [28, 1, 2, 0, 27.064],\n",
       "       [37, 1, 1, 1, 16.724],\n",
       "       [62, 1, 2, 0, 16.594],\n",
       "       [64, 1, 2, 0, 7.761],\n",
       "       [34, 1, 2, 0, 22.456],\n",
       "       [23, 1, 0, 0, 8.011],\n",
       "       [74, 0, 1, 0, 20.942],\n",
       "       [32, 0, 1, 0, 9.712],\n",
       "       [49, 1, 1, 1, 13.598],\n",
       "       [47, 1, 0, 0, 10.403],\n",
       "       [66, 0, 2, 1, 8.107],\n",
       "       [15, 0, 0, 1, 16.725],\n",
       "       [32, 1, 0, 1, 9.445],\n",
       "       [57, 0, 0, 1, 9.945],\n",
       "       [70, 1, 0, 0, 9.849],\n",
       "       [72, 0, 1, 1, 14.642],\n",
       "       [56, 1, 2, 0, 8.966],\n",
       "       [56, 0, 1, 0, 11.567],\n",
       "       [52, 1, 2, 0, 9.894],\n",
       "       [61, 0, 1, 1, 7.34],\n",
       "       [41, 0, 1, 1, 18.739],\n",
       "       [26, 1, 1, 1, 20.909],\n",
       "       [63, 1, 2, 0, 25.917],\n",
       "       [41, 1, 0, 1, 15.156],\n",
       "       [55, 1, 2, 1, 7.261],\n",
       "       [47, 1, 1, 0, 10.114],\n",
       "       [70, 1, 0, 0, 13.967],\n",
       "       [59, 1, 0, 0, 13.935],\n",
       "       [49, 1, 0, 1, 8.7],\n",
       "       [49, 0, 2, 0, 16.275],\n",
       "       [35, 1, 1, 1, 9.17],\n",
       "       [23, 0, 0, 0, 25.355],\n",
       "       [49, 1, 1, 0, 10.537],\n",
       "       [26, 0, 0, 1, 19.161],\n",
       "       [68, 0, 2, 1, 27.05],\n",
       "       [26, 0, 1, 0, 14.16],\n",
       "       [57, 0, 2, 0, 14.216],\n",
       "       [37, 0, 0, 1, 23.091],\n",
       "       [70, 0, 2, 0, 20.489],\n",
       "       [37, 0, 0, 0, 13.091],\n",
       "       [67, 1, 1, 1, 20.693],\n",
       "       [31, 1, 0, 1, 17.069],\n",
       "       [29, 0, 0, 0, 29.45],\n",
       "       [26, 0, 0, 1, 12.307],\n",
       "       [30, 0, 2, 0, 10.443],\n",
       "       [74, 1, 0, 1, 15.436],\n",
       "       [69, 1, 1, 0, 15.478],\n",
       "       [22, 0, 0, 1, 22.818],\n",
       "       [61, 1, 2, 0, 9.443],\n",
       "       [16, 1, 0, 1, 19.007],\n",
       "       [47, 0, 1, 0, 11.767],\n",
       "       [49, 1, 1, 1, 11.014],\n",
       "       [38, 0, 0, 1, 11.326],\n",
       "       [20, 0, 1, 1, 11.686],\n",
       "       [31, 1, 0, 1, 11.871],\n",
       "       [19, 0, 0, 1, 25.969],\n",
       "       [48, 0, 1, 0, 15.036],\n",
       "       [66, 1, 0, 0, 16.347],\n",
       "       [43, 1, 1, 1, 19.368],\n",
       "       [28, 0, 2, 0, 12.879],\n",
       "       [22, 1, 0, 1, 28.294],\n",
       "       [68, 1, 0, 0, 11.009],\n",
       "       [74, 1, 1, 1, 11.939],\n",
       "       [47, 0, 2, 1, 6.683],\n",
       "       [65, 1, 0, 1, 34.997],\n",
       "       [60, 0, 0, 0, 13.303],\n",
       "       [16, 0, 0, 1, 15.516],\n",
       "       [58, 0, 0, 1, 14.239],\n",
       "       [21, 0, 0, 1, 28.632],\n",
       "       [23, 1, 2, 0, 16.85],\n",
       "       [60, 1, 0, 0, 13.934],\n",
       "       [62, 1, 1, 1, 27.183],\n",
       "       [31, 1, 0, 0, 30.366],\n",
       "       [36, 0, 0, 0, 11.198],\n",
       "       [23, 1, 2, 0, 12.26],\n",
       "       [33, 0, 1, 0, 33.486],\n",
       "       [28, 0, 2, 0, 7.798],\n",
       "       [20, 0, 0, 0, 11.262],\n",
       "       [28, 0, 1, 0, 19.796],\n",
       "       [22, 1, 1, 0, 8.151],\n",
       "       [52, 1, 1, 1, 32.922],\n",
       "       [58, 1, 0, 0, 18.991],\n",
       "       [18, 0, 2, 1, 8.75],\n",
       "       [15, 1, 0, 1, 17.206],\n",
       "       [51, 1, 0, 0, 18.295],\n",
       "       [73, 0, 0, 0, 18.348],\n",
       "       [60, 1, 2, 0, 15.171],\n",
       "       [38, 0, 1, 1, 29.875],\n",
       "       [47, 1, 1, 1, 33.542],\n",
       "       [47, 1, 1, 0, 13.093],\n",
       "       [40, 1, 0, 0, 27.826],\n",
       "       [47, 1, 1, 1, 30.568],\n",
       "       [24, 1, 0, 1, 9.475],\n",
       "       [45, 1, 1, 1, 8.37],\n",
       "       [41, 1, 1, 0, 11.037],\n",
       "       [16, 1, 1, 0, 12.006],\n",
       "       [64, 0, 1, 1, 25.741],\n",
       "       [51, 0, 2, 0, 13.597],\n",
       "       [58, 0, 1, 0, 38.247],\n",
       "       [54, 1, 2, 0, 24.658],\n",
       "       [58, 0, 0, 0, 19.416],\n",
       "       [60, 1, 0, 1, 8.621],\n",
       "       [53, 1, 1, 0, 22.963],\n",
       "       [31, 1, 0, 1, 11.227],\n",
       "       [69, 0, 2, 0, 10.065],\n",
       "       [37, 0, 1, 1, 12.006],\n",
       "       [45, 0, 0, 0, 12.854],\n",
       "       [57, 1, 1, 1, 19.128],\n",
       "       [39, 1, 2, 0, 15.969],\n",
       "       [28, 0, 0, 1, 18.809],\n",
       "       [42, 0, 0, 0, 21.036],\n",
       "       [28, 0, 2, 0, 19.675],\n",
       "       [32, 0, 2, 0, 7.477],\n",
       "       [39, 1, 0, 0, 9.664],\n",
       "       [72, 1, 1, 0, 16.31],\n",
       "       [32, 0, 1, 1, 10.84],\n",
       "       [24, 1, 2, 0, 25.786],\n",
       "       [35, 0, 0, 0, 12.894],\n",
       "       [24, 0, 2, 0, 10.605],\n",
       "       [49, 1, 0, 1, 6.269],\n",
       "       [39, 1, 1, 1, 13.938]], dtype=object)"
      ]
     },
     "execution_count": 87,
     "metadata": {},
     "output_type": "execute_result"
    }
   ],
   "source": [
    "x_train"
   ]
  },
  {
   "cell_type": "markdown",
   "id": "16659d02",
   "metadata": {},
   "source": [
    "## Arbol de decision configuración Gini"
   ]
  },
  {
   "cell_type": "code",
   "execution_count": 100,
   "id": "5c8dc59c",
   "metadata": {},
   "outputs": [
    {
     "data": {
      "text/html": [
       "<style>#sk-container-id-15 {color: black;background-color: white;}#sk-container-id-15 pre{padding: 0;}#sk-container-id-15 div.sk-toggleable {background-color: white;}#sk-container-id-15 label.sk-toggleable__label {cursor: pointer;display: block;width: 100%;margin-bottom: 0;padding: 0.3em;box-sizing: border-box;text-align: center;}#sk-container-id-15 label.sk-toggleable__label-arrow:before {content: \"▸\";float: left;margin-right: 0.25em;color: #696969;}#sk-container-id-15 label.sk-toggleable__label-arrow:hover:before {color: black;}#sk-container-id-15 div.sk-estimator:hover label.sk-toggleable__label-arrow:before {color: black;}#sk-container-id-15 div.sk-toggleable__content {max-height: 0;max-width: 0;overflow: hidden;text-align: left;background-color: #f0f8ff;}#sk-container-id-15 div.sk-toggleable__content pre {margin: 0.2em;color: black;border-radius: 0.25em;background-color: #f0f8ff;}#sk-container-id-15 input.sk-toggleable__control:checked~div.sk-toggleable__content {max-height: 200px;max-width: 100%;overflow: auto;}#sk-container-id-15 input.sk-toggleable__control:checked~label.sk-toggleable__label-arrow:before {content: \"▾\";}#sk-container-id-15 div.sk-estimator input.sk-toggleable__control:checked~label.sk-toggleable__label {background-color: #d4ebff;}#sk-container-id-15 div.sk-label input.sk-toggleable__control:checked~label.sk-toggleable__label {background-color: #d4ebff;}#sk-container-id-15 input.sk-hidden--visually {border: 0;clip: rect(1px 1px 1px 1px);clip: rect(1px, 1px, 1px, 1px);height: 1px;margin: -1px;overflow: hidden;padding: 0;position: absolute;width: 1px;}#sk-container-id-15 div.sk-estimator {font-family: monospace;background-color: #f0f8ff;border: 1px dotted black;border-radius: 0.25em;box-sizing: border-box;margin-bottom: 0.5em;}#sk-container-id-15 div.sk-estimator:hover {background-color: #d4ebff;}#sk-container-id-15 div.sk-parallel-item::after {content: \"\";width: 100%;border-bottom: 1px solid gray;flex-grow: 1;}#sk-container-id-15 div.sk-label:hover label.sk-toggleable__label {background-color: #d4ebff;}#sk-container-id-15 div.sk-serial::before {content: \"\";position: absolute;border-left: 1px solid gray;box-sizing: border-box;top: 0;bottom: 0;left: 50%;z-index: 0;}#sk-container-id-15 div.sk-serial {display: flex;flex-direction: column;align-items: center;background-color: white;padding-right: 0.2em;padding-left: 0.2em;position: relative;}#sk-container-id-15 div.sk-item {position: relative;z-index: 1;}#sk-container-id-15 div.sk-parallel {display: flex;align-items: stretch;justify-content: center;background-color: white;position: relative;}#sk-container-id-15 div.sk-item::before, #sk-container-id-15 div.sk-parallel-item::before {content: \"\";position: absolute;border-left: 1px solid gray;box-sizing: border-box;top: 0;bottom: 0;left: 50%;z-index: -1;}#sk-container-id-15 div.sk-parallel-item {display: flex;flex-direction: column;z-index: 1;position: relative;background-color: white;}#sk-container-id-15 div.sk-parallel-item:first-child::after {align-self: flex-end;width: 50%;}#sk-container-id-15 div.sk-parallel-item:last-child::after {align-self: flex-start;width: 50%;}#sk-container-id-15 div.sk-parallel-item:only-child::after {width: 0;}#sk-container-id-15 div.sk-dashed-wrapped {border: 1px dashed gray;margin: 0 0.4em 0.5em 0.4em;box-sizing: border-box;padding-bottom: 0.4em;background-color: white;}#sk-container-id-15 div.sk-label label {font-family: monospace;font-weight: bold;display: inline-block;line-height: 1.2em;}#sk-container-id-15 div.sk-label-container {text-align: center;}#sk-container-id-15 div.sk-container {/* jupyter's `normalize.less` sets `[hidden] { display: none; }` but bootstrap.min.css set `[hidden] { display: none !important; }` so we also need the `!important` here to be able to override the default hidden behavior on the sphinx rendered scikit-learn.org. See: https://github.com/scikit-learn/scikit-learn/issues/21755 */display: inline-block !important;position: relative;}#sk-container-id-15 div.sk-text-repr-fallback {display: none;}</style><div id=\"sk-container-id-15\" class=\"sk-top-container\"><div class=\"sk-text-repr-fallback\"><pre>DecisionTreeClassifier()</pre><b>In a Jupyter environment, please rerun this cell to show the HTML representation or trust the notebook. <br />On GitHub, the HTML representation is unable to render, please try loading this page with nbviewer.org.</b></div><div class=\"sk-container\" hidden><div class=\"sk-item\"><div class=\"sk-estimator sk-toggleable\"><input class=\"sk-toggleable__control sk-hidden--visually\" id=\"sk-estimator-id-15\" type=\"checkbox\" checked><label for=\"sk-estimator-id-15\" class=\"sk-toggleable__label sk-toggleable__label-arrow\">DecisionTreeClassifier</label><div class=\"sk-toggleable__content\"><pre>DecisionTreeClassifier()</pre></div></div></div></div></div>"
      ],
      "text/plain": [
       "DecisionTreeClassifier()"
      ]
     },
     "execution_count": 100,
     "metadata": {},
     "output_type": "execute_result"
    }
   ],
   "source": [
    "clf = DecisionTreeClassifier(criterion=\"gini\")\n",
    "clf.fit(x_train, y_train)"
   ]
  },
  {
   "cell_type": "code",
   "execution_count": 101,
   "id": "75cee547",
   "metadata": {},
   "outputs": [],
   "source": [
    "y_pred = clf.predict(x_test)"
   ]
  },
  {
   "cell_type": "code",
   "execution_count": 102,
   "id": "49fe9fc3",
   "metadata": {},
   "outputs": [
    {
     "data": {
      "text/plain": [
       "array(['drugX', 'drugY', 'drugX', 'drugC', 'drugY', 'drugX', 'drugX',\n",
       "       'drugY', 'drugY', 'drugY', 'drugX', 'drugC', 'drugY', 'drugY',\n",
       "       'drugA', 'drugA', 'drugX', 'drugX', 'drugB', 'drugY', 'drugX',\n",
       "       'drugX', 'drugX', 'drugY', 'drugB', 'drugX', 'drugX', 'drugY',\n",
       "       'drugC', 'drugX', 'drugC', 'drugY', 'drugY', 'drugY', 'drugA',\n",
       "       'drugY', 'drugA', 'drugY', 'drugY', 'drugY', 'drugB', 'drugY',\n",
       "       'drugY', 'drugX', 'drugB', 'drugY', 'drugX', 'drugX', 'drugY',\n",
       "       'drugA', 'drugY', 'drugY', 'drugY', 'drugY', 'drugY', 'drugY',\n",
       "       'drugX', 'drugX', 'drugX', 'drugA'], dtype=object)"
      ]
     },
     "execution_count": 102,
     "metadata": {},
     "output_type": "execute_result"
    }
   ],
   "source": [
    "y_pred"
   ]
  },
  {
   "cell_type": "code",
   "execution_count": 103,
   "id": "81cb6327",
   "metadata": {},
   "outputs": [
    {
     "data": {
      "text/plain": [
       "array([[ 4,  0,  0,  0,  0],\n",
       "       [ 2,  4,  0,  0,  0],\n",
       "       [ 0,  0,  4,  0,  0],\n",
       "       [ 0,  0,  0, 19,  0],\n",
       "       [ 0,  0,  0,  0, 27]], dtype=int64)"
      ]
     },
     "execution_count": 103,
     "metadata": {},
     "output_type": "execute_result"
    }
   ],
   "source": [
    "#Matriz de confusion \n",
    "from sklearn.metrics import confusion_matrix\n",
    "cm = confusion_matrix(y_test, y_pred )\n",
    "cm"
   ]
  },
  {
   "cell_type": "code",
   "execution_count": 104,
   "id": "e4c1eacd",
   "metadata": {},
   "outputs": [
    {
     "name": "stdout",
     "output_type": "stream",
     "text": [
      "              precision    recall  f1-score   support\n",
      "\n",
      "       drugA       0.67      1.00      0.80         4\n",
      "       drugB       1.00      0.67      0.80         6\n",
      "       drugC       1.00      1.00      1.00         4\n",
      "       drugX       1.00      1.00      1.00        19\n",
      "       drugY       1.00      1.00      1.00        27\n",
      "\n",
      "    accuracy                           0.97        60\n",
      "   macro avg       0.93      0.93      0.92        60\n",
      "weighted avg       0.98      0.97      0.97        60\n",
      "\n"
     ]
    }
   ],
   "source": [
    "#Estadisticas de desempeño \n",
    "from sklearn.metrics import classification_report\n",
    "print(classification_report(y_test, y_pred))"
   ]
  },
  {
   "cell_type": "markdown",
   "id": "dde36b89",
   "metadata": {},
   "source": [
    "El modelo tiene una alta precisión para las clases \"drugB\", \"drugC\", \"drugX\" y \"drugY\" (1.00) y una precisión ligeramente inferior para la clase \"drugA\" (0.67).\n",
    "El recall es alto para todas las clases, excepto para \"drugB\" que tiene un valor de 0.67.\n",
    "El F1-score muestra un buen equilibrio entre precisión y recall para la mayoría de las clases, excepto para \"drugC\", \"drugX\" y \"drugY\" que tienen un valor de 1.00.\n",
    "La exactitud general del modelo es de 0.97, lo que indica un alto porcentaje de predicciones correctas en general."
   ]
  },
  {
   "cell_type": "code",
   "execution_count": 93,
   "id": "58fcdfb0",
   "metadata": {},
   "outputs": [
    {
     "name": "stdout",
     "output_type": "stream",
     "text": [
      "Requirement already satisfied: graphviz in c:\\users\\wichi\\anaconda3\\lib\\site-packages (0.20.1)\n",
      "Requirement already satisfied: pydotplus in c:\\users\\wichi\\anaconda3\\lib\\site-packages (2.0.2)\n",
      "Requirement already satisfied: pyparsing>=2.0.1 in c:\\users\\wichi\\anaconda3\\lib\\site-packages (from pydotplus) (3.0.4)\n"
     ]
    }
   ],
   "source": [
    "#Graficar arbol de decision\n",
    "!pip install graphviz\n",
    "!pip install pydotplus"
   ]
  },
  {
   "cell_type": "code",
   "execution_count": 94,
   "id": "b307cf2e",
   "metadata": {},
   "outputs": [],
   "source": [
    "from sklearn import tree\n",
    "import graphviz\n",
    "import pydotplus\n",
    "from PIL import Image"
   ]
  },
  {
   "cell_type": "code",
   "execution_count": 105,
   "id": "03c8909f",
   "metadata": {},
   "outputs": [],
   "source": [
    "#Creacion de la informacion para el arbol\n",
    "dot_data = tree.export_graphviz(clf, out_file=None, feature_names=feature_cols, class_names=['drugY', 'drugC', 'drugX', 'drugA', 'drugB'])\n",
    "\n",
    "#Crear grafica del arbol\n",
    "graph = pydotplus.graph_from_dot_data(dot_data)"
   ]
  },
  {
   "cell_type": "code",
   "execution_count": 106,
   "id": "f32f3a7a",
   "metadata": {},
   "outputs": [],
   "source": [
    "\n",
    "#Creacion del arbol en formato png\n",
    "graph.write_png(\"drugs.png\")\n",
    "\n",
    "image = Image.open(\"drugs.png\")\n",
    "image.show()"
   ]
  },
  {
   "cell_type": "markdown",
   "id": "c1f4a99e",
   "metadata": {},
   "source": [
    "### Árbol de decision configuracion entropía"
   ]
  },
  {
   "cell_type": "code",
   "execution_count": 108,
   "id": "c11ab846",
   "metadata": {},
   "outputs": [
    {
     "data": {
      "text/html": [
       "<style>#sk-container-id-16 {color: black;background-color: white;}#sk-container-id-16 pre{padding: 0;}#sk-container-id-16 div.sk-toggleable {background-color: white;}#sk-container-id-16 label.sk-toggleable__label {cursor: pointer;display: block;width: 100%;margin-bottom: 0;padding: 0.3em;box-sizing: border-box;text-align: center;}#sk-container-id-16 label.sk-toggleable__label-arrow:before {content: \"▸\";float: left;margin-right: 0.25em;color: #696969;}#sk-container-id-16 label.sk-toggleable__label-arrow:hover:before {color: black;}#sk-container-id-16 div.sk-estimator:hover label.sk-toggleable__label-arrow:before {color: black;}#sk-container-id-16 div.sk-toggleable__content {max-height: 0;max-width: 0;overflow: hidden;text-align: left;background-color: #f0f8ff;}#sk-container-id-16 div.sk-toggleable__content pre {margin: 0.2em;color: black;border-radius: 0.25em;background-color: #f0f8ff;}#sk-container-id-16 input.sk-toggleable__control:checked~div.sk-toggleable__content {max-height: 200px;max-width: 100%;overflow: auto;}#sk-container-id-16 input.sk-toggleable__control:checked~label.sk-toggleable__label-arrow:before {content: \"▾\";}#sk-container-id-16 div.sk-estimator input.sk-toggleable__control:checked~label.sk-toggleable__label {background-color: #d4ebff;}#sk-container-id-16 div.sk-label input.sk-toggleable__control:checked~label.sk-toggleable__label {background-color: #d4ebff;}#sk-container-id-16 input.sk-hidden--visually {border: 0;clip: rect(1px 1px 1px 1px);clip: rect(1px, 1px, 1px, 1px);height: 1px;margin: -1px;overflow: hidden;padding: 0;position: absolute;width: 1px;}#sk-container-id-16 div.sk-estimator {font-family: monospace;background-color: #f0f8ff;border: 1px dotted black;border-radius: 0.25em;box-sizing: border-box;margin-bottom: 0.5em;}#sk-container-id-16 div.sk-estimator:hover {background-color: #d4ebff;}#sk-container-id-16 div.sk-parallel-item::after {content: \"\";width: 100%;border-bottom: 1px solid gray;flex-grow: 1;}#sk-container-id-16 div.sk-label:hover label.sk-toggleable__label {background-color: #d4ebff;}#sk-container-id-16 div.sk-serial::before {content: \"\";position: absolute;border-left: 1px solid gray;box-sizing: border-box;top: 0;bottom: 0;left: 50%;z-index: 0;}#sk-container-id-16 div.sk-serial {display: flex;flex-direction: column;align-items: center;background-color: white;padding-right: 0.2em;padding-left: 0.2em;position: relative;}#sk-container-id-16 div.sk-item {position: relative;z-index: 1;}#sk-container-id-16 div.sk-parallel {display: flex;align-items: stretch;justify-content: center;background-color: white;position: relative;}#sk-container-id-16 div.sk-item::before, #sk-container-id-16 div.sk-parallel-item::before {content: \"\";position: absolute;border-left: 1px solid gray;box-sizing: border-box;top: 0;bottom: 0;left: 50%;z-index: -1;}#sk-container-id-16 div.sk-parallel-item {display: flex;flex-direction: column;z-index: 1;position: relative;background-color: white;}#sk-container-id-16 div.sk-parallel-item:first-child::after {align-self: flex-end;width: 50%;}#sk-container-id-16 div.sk-parallel-item:last-child::after {align-self: flex-start;width: 50%;}#sk-container-id-16 div.sk-parallel-item:only-child::after {width: 0;}#sk-container-id-16 div.sk-dashed-wrapped {border: 1px dashed gray;margin: 0 0.4em 0.5em 0.4em;box-sizing: border-box;padding-bottom: 0.4em;background-color: white;}#sk-container-id-16 div.sk-label label {font-family: monospace;font-weight: bold;display: inline-block;line-height: 1.2em;}#sk-container-id-16 div.sk-label-container {text-align: center;}#sk-container-id-16 div.sk-container {/* jupyter's `normalize.less` sets `[hidden] { display: none; }` but bootstrap.min.css set `[hidden] { display: none !important; }` so we also need the `!important` here to be able to override the default hidden behavior on the sphinx rendered scikit-learn.org. See: https://github.com/scikit-learn/scikit-learn/issues/21755 */display: inline-block !important;position: relative;}#sk-container-id-16 div.sk-text-repr-fallback {display: none;}</style><div id=\"sk-container-id-16\" class=\"sk-top-container\"><div class=\"sk-text-repr-fallback\"><pre>DecisionTreeClassifier(criterion=&#x27;entropy&#x27;)</pre><b>In a Jupyter environment, please rerun this cell to show the HTML representation or trust the notebook. <br />On GitHub, the HTML representation is unable to render, please try loading this page with nbviewer.org.</b></div><div class=\"sk-container\" hidden><div class=\"sk-item\"><div class=\"sk-estimator sk-toggleable\"><input class=\"sk-toggleable__control sk-hidden--visually\" id=\"sk-estimator-id-16\" type=\"checkbox\" checked><label for=\"sk-estimator-id-16\" class=\"sk-toggleable__label sk-toggleable__label-arrow\">DecisionTreeClassifier</label><div class=\"sk-toggleable__content\"><pre>DecisionTreeClassifier(criterion=&#x27;entropy&#x27;)</pre></div></div></div></div></div>"
      ],
      "text/plain": [
       "DecisionTreeClassifier(criterion='entropy')"
      ]
     },
     "execution_count": 108,
     "metadata": {},
     "output_type": "execute_result"
    }
   ],
   "source": [
    "clf = DecisionTreeClassifier(criterion=\"entropy\")\n",
    "clf.fit(x_train, y_train)"
   ]
  },
  {
   "cell_type": "code",
   "execution_count": 109,
   "id": "ae7d0080",
   "metadata": {},
   "outputs": [],
   "source": [
    "y_pred = clf.predict(x_test)"
   ]
  },
  {
   "cell_type": "code",
   "execution_count": 110,
   "id": "4f55d5c9",
   "metadata": {},
   "outputs": [
    {
     "data": {
      "text/plain": [
       "array([[ 4,  0,  0,  0,  0],\n",
       "       [ 2,  4,  0,  0,  0],\n",
       "       [ 0,  0,  4,  0,  0],\n",
       "       [ 0,  0,  0, 19,  0],\n",
       "       [ 0,  0,  0,  0, 27]], dtype=int64)"
      ]
     },
     "execution_count": 110,
     "metadata": {},
     "output_type": "execute_result"
    }
   ],
   "source": [
    "#Matriz de confusion \n",
    "from sklearn.metrics import confusion_matrix\n",
    "cm = confusion_matrix(y_test, y_pred )\n",
    "cm"
   ]
  },
  {
   "cell_type": "code",
   "execution_count": 111,
   "id": "1ed878b7",
   "metadata": {},
   "outputs": [
    {
     "name": "stdout",
     "output_type": "stream",
     "text": [
      "              precision    recall  f1-score   support\n",
      "\n",
      "       drugA       0.67      1.00      0.80         4\n",
      "       drugB       1.00      0.67      0.80         6\n",
      "       drugC       1.00      1.00      1.00         4\n",
      "       drugX       1.00      1.00      1.00        19\n",
      "       drugY       1.00      1.00      1.00        27\n",
      "\n",
      "    accuracy                           0.97        60\n",
      "   macro avg       0.93      0.93      0.92        60\n",
      "weighted avg       0.98      0.97      0.97        60\n",
      "\n"
     ]
    }
   ],
   "source": [
    "#Estadisticas de desempeño \n",
    "from sklearn.metrics import classification_report\n",
    "print(classification_report(y_test, y_pred))"
   ]
  },
  {
   "cell_type": "code",
   "execution_count": 113,
   "id": "169635ff",
   "metadata": {},
   "outputs": [],
   "source": [
    "#Creacion de la informacion para el arbol\n",
    "dot_data = tree.export_graphviz(clf, out_file=None, feature_names=feature_cols, class_names=['drugY', 'drugC', 'drugX', 'drugA', 'drugB'])\n",
    "\n",
    "#Crear grafica del arbol\n",
    "graph = pydotplus.graph_from_dot_data(dot_data)"
   ]
  },
  {
   "cell_type": "code",
   "execution_count": 114,
   "id": "feb2f96c",
   "metadata": {},
   "outputs": [],
   "source": [
    "\n",
    "#Creacion del arbol en formato png\n",
    "graph.write_png(\"drugs.png\")\n",
    "\n",
    "image = Image.open(\"drugs.png\")\n",
    "image.show()"
   ]
  },
  {
   "cell_type": "markdown",
   "id": "8fda3623",
   "metadata": {},
   "source": [
    "### 3) Explique verbalmente las reglas del árbol propuesto al momento de pronosticar"
   ]
  },
  {
   "attachments": {
    "drugs.png": {
     "image/png": "[encoded data removed]"
    }
   },
   "cell_type": "markdown",
   "id": "0287263f",
   "metadata": {},
   "source": [
    "![drugs.png](attachment:drugs.png)"
   ]
  },
  {
   "cell_type": "markdown",
   "id": "d38bffc6",
   "metadata": {},
   "source": [
    "Si el paciente tiene el ratio Na_to_K menor o igual a 14.839, si su BP es menor o igual a 0.5, si su edad es igual o menor a 53 el medicamento que se le tiene que dar es el drugY. Si este mismo paciente tuviera una edad mayor a los 53, se le daria el tratamientoC.\n",
    "Ahora de igual manera un paciente tiene el ratio Na_to_K menor o igual a 14.839 pero su BP es mayor o igual a 0.5, y su cholesterol es menor o igual a 0.5 se le da la droga X de lo contrario se le da la droga A. si este mismo paciente tiene una BP mayor a 1.5 se le da directamente la droga A."
   ]
  },
  {
   "cell_type": "markdown",
   "id": "9085f856",
   "metadata": {},
   "source": [
    "### 4) ¿Qué medicamento recomendaría utilizar para un paciente con los siguientes datos? "
   ]
  },
  {
   "attachments": {
    "image.png": {
     "image/png": "[encoded data removed]"
    }
   },
   "cell_type": "markdown",
   "id": "06b8355e",
   "metadata": {},
   "source": [
    "![image.png](attachment:image.png)"
   ]
  },
  {
   "cell_type": "code",
   "execution_count": 119,
   "id": "f9b66592",
   "metadata": {},
   "outputs": [
    {
     "data": {
      "text/plain": [
       "array(['drugY'], dtype=object)"
      ]
     },
     "execution_count": 119,
     "metadata": {},
     "output_type": "execute_result"
    }
   ],
   "source": [
    "clf.predict([[50,0,0,1,15.302]])"
   ]
  }
 ],
 "metadata": {
  "kernelspec": {
   "display_name": "Python 3 (ipykernel)",
   "language": "python",
   "name": "python3"
  },
  "language_info": {
   "codemirror_mode": {
    "name": "ipython",
    "version": 3
   },
   "file_extension": ".py",
   "mimetype": "text/x-python",
   "name": "python",
   "nbconvert_exporter": "python",
   "pygments_lexer": "ipython3",
   "version": "3.9.12"
  }
 },
 "nbformat": 4,
 "nbformat_minor": 5
}
