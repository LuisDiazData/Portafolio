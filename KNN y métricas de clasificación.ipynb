{
 "cells": [
  {
   "cell_type": "code",
   "execution_count": 3,
   "id": "e26462ef",
   "metadata": {},
   "outputs": [],
   "source": [
    "#Librerias\n",
    "import numpy as np\n",
    "import pandas as pd\n",
    "import matplotlib.pyplot as plt\n",
    "import warnings\n",
    "import os"
   ]
  },
  {
   "cell_type": "code",
   "execution_count": 7,
   "id": "0ba48413",
   "metadata": {},
   "outputs": [],
   "source": [
    "#Desactivando alertas y preparando data set\n",
    "warnings.simplefilter(\"ignore\")\n",
    "os.chdir('C:\\\\Users\\\\wichi\\\\OneDrive\\\\Documentos\\\\EBAC\\\\Data Science\\\\Actividades\\\\El algoritmo KNN y métricas de clasificación\\\\activity')\n",
    "df_preprocess = pd.read_csv('recursos_humanos.csv')"
   ]
  },
  {
   "cell_type": "code",
   "execution_count": 8,
   "id": "e2a92d40",
   "metadata": {},
   "outputs": [
    {
     "data": {
      "text/html": [
       "<div>\n",
       "<style scoped>\n",
       "    .dataframe tbody tr th:only-of-type {\n",
       "        vertical-align: middle;\n",
       "    }\n",
       "\n",
       "    .dataframe tbody tr th {\n",
       "        vertical-align: top;\n",
       "    }\n",
       "\n",
       "    .dataframe thead th {\n",
       "        text-align: right;\n",
       "    }\n",
       "</style>\n",
       "<table border=\"1\" class=\"dataframe\">\n",
       "  <thead>\n",
       "    <tr style=\"text-align: right;\">\n",
       "      <th></th>\n",
       "      <th>satisfaction_level</th>\n",
       "      <th>last_evaluation</th>\n",
       "      <th>number_project</th>\n",
       "      <th>average_montly_hours</th>\n",
       "      <th>time_spend_company</th>\n",
       "      <th>Work_accident</th>\n",
       "      <th>left</th>\n",
       "      <th>promotion_last_5years</th>\n",
       "      <th>sales</th>\n",
       "      <th>salary</th>\n",
       "    </tr>\n",
       "  </thead>\n",
       "  <tbody>\n",
       "    <tr>\n",
       "      <th>0</th>\n",
       "      <td>0.38</td>\n",
       "      <td>0.53</td>\n",
       "      <td>2</td>\n",
       "      <td>157</td>\n",
       "      <td>3</td>\n",
       "      <td>0</td>\n",
       "      <td>1</td>\n",
       "      <td>0</td>\n",
       "      <td>sales</td>\n",
       "      <td>low</td>\n",
       "    </tr>\n",
       "    <tr>\n",
       "      <th>1</th>\n",
       "      <td>0.80</td>\n",
       "      <td>0.86</td>\n",
       "      <td>5</td>\n",
       "      <td>262</td>\n",
       "      <td>6</td>\n",
       "      <td>0</td>\n",
       "      <td>1</td>\n",
       "      <td>0</td>\n",
       "      <td>sales</td>\n",
       "      <td>medium</td>\n",
       "    </tr>\n",
       "    <tr>\n",
       "      <th>2</th>\n",
       "      <td>0.11</td>\n",
       "      <td>0.88</td>\n",
       "      <td>7</td>\n",
       "      <td>272</td>\n",
       "      <td>4</td>\n",
       "      <td>0</td>\n",
       "      <td>1</td>\n",
       "      <td>0</td>\n",
       "      <td>sales</td>\n",
       "      <td>medium</td>\n",
       "    </tr>\n",
       "    <tr>\n",
       "      <th>3</th>\n",
       "      <td>0.72</td>\n",
       "      <td>0.87</td>\n",
       "      <td>5</td>\n",
       "      <td>223</td>\n",
       "      <td>5</td>\n",
       "      <td>0</td>\n",
       "      <td>1</td>\n",
       "      <td>0</td>\n",
       "      <td>sales</td>\n",
       "      <td>low</td>\n",
       "    </tr>\n",
       "    <tr>\n",
       "      <th>4</th>\n",
       "      <td>0.37</td>\n",
       "      <td>0.52</td>\n",
       "      <td>2</td>\n",
       "      <td>159</td>\n",
       "      <td>3</td>\n",
       "      <td>0</td>\n",
       "      <td>1</td>\n",
       "      <td>0</td>\n",
       "      <td>sales</td>\n",
       "      <td>low</td>\n",
       "    </tr>\n",
       "  </tbody>\n",
       "</table>\n",
       "</div>"
      ],
      "text/plain": [
       "   satisfaction_level  last_evaluation  number_project  average_montly_hours  \\\n",
       "0                0.38             0.53               2                   157   \n",
       "1                0.80             0.86               5                   262   \n",
       "2                0.11             0.88               7                   272   \n",
       "3                0.72             0.87               5                   223   \n",
       "4                0.37             0.52               2                   159   \n",
       "\n",
       "   time_spend_company  Work_accident  left  promotion_last_5years  sales  \\\n",
       "0                   3              0     1                      0  sales   \n",
       "1                   6              0     1                      0  sales   \n",
       "2                   4              0     1                      0  sales   \n",
       "3                   5              0     1                      0  sales   \n",
       "4                   3              0     1                      0  sales   \n",
       "\n",
       "   salary  \n",
       "0     low  \n",
       "1  medium  \n",
       "2  medium  \n",
       "3     low  \n",
       "4     low  "
      ]
     },
     "execution_count": 8,
     "metadata": {},
     "output_type": "execute_result"
    }
   ],
   "source": [
    "df_preprocess.head()"
   ]
  },
  {
   "cell_type": "code",
   "execution_count": 12,
   "id": "caa3b607",
   "metadata": {},
   "outputs": [
    {
     "data": {
      "text/plain": [
       "satisfaction_level       0\n",
       "last_evaluation          0\n",
       "number_project           0\n",
       "average_montly_hours     0\n",
       "time_spend_company       0\n",
       "Work_accident            0\n",
       "left                     0\n",
       "promotion_last_5years    0\n",
       "sales                    0\n",
       "salary                   0\n",
       "dtype: int64"
      ]
     },
     "execution_count": 12,
     "metadata": {},
     "output_type": "execute_result"
    }
   ],
   "source": [
    "#Contando nulos\n",
    "df_preprocess.isnull().sum()"
   ]
  },
  {
   "cell_type": "code",
   "execution_count": 13,
   "id": "bf2f0cb4",
   "metadata": {},
   "outputs": [
    {
     "data": {
      "text/plain": [
       "satisfaction_level       float64\n",
       "last_evaluation          float64\n",
       "number_project             int64\n",
       "average_montly_hours       int64\n",
       "time_spend_company         int64\n",
       "Work_accident              int64\n",
       "left                       int64\n",
       "promotion_last_5years      int64\n",
       "sales                     object\n",
       "salary                    object\n",
       "dtype: object"
      ]
     },
     "execution_count": 13,
     "metadata": {},
     "output_type": "execute_result"
    }
   ],
   "source": [
    "df_preprocess.dtypes"
   ]
  },
  {
   "cell_type": "code",
   "execution_count": 14,
   "id": "f64b4e95",
   "metadata": {},
   "outputs": [],
   "source": [
    "#Cambiando Variables Categoricas en numericas\n",
    "from sklearn.preprocessing import LabelEncoder\n",
    "categorical_columns  = ['sales','salary']\n",
    "for column in categorical_columns:\n",
    "    le =LabelEncoder()\n",
    "    df_preprocess[column] = le.fit_transform(df_preprocess[column])"
   ]
  },
  {
   "cell_type": "code",
   "execution_count": 15,
   "id": "673fbf95",
   "metadata": {},
   "outputs": [
    {
     "data": {
      "text/html": [
       "<div>\n",
       "<style scoped>\n",
       "    .dataframe tbody tr th:only-of-type {\n",
       "        vertical-align: middle;\n",
       "    }\n",
       "\n",
       "    .dataframe tbody tr th {\n",
       "        vertical-align: top;\n",
       "    }\n",
       "\n",
       "    .dataframe thead th {\n",
       "        text-align: right;\n",
       "    }\n",
       "</style>\n",
       "<table border=\"1\" class=\"dataframe\">\n",
       "  <thead>\n",
       "    <tr style=\"text-align: right;\">\n",
       "      <th></th>\n",
       "      <th>satisfaction_level</th>\n",
       "      <th>last_evaluation</th>\n",
       "      <th>number_project</th>\n",
       "      <th>average_montly_hours</th>\n",
       "      <th>time_spend_company</th>\n",
       "      <th>Work_accident</th>\n",
       "      <th>left</th>\n",
       "      <th>promotion_last_5years</th>\n",
       "      <th>sales</th>\n",
       "      <th>salary</th>\n",
       "    </tr>\n",
       "  </thead>\n",
       "  <tbody>\n",
       "    <tr>\n",
       "      <th>0</th>\n",
       "      <td>0.38</td>\n",
       "      <td>0.53</td>\n",
       "      <td>2</td>\n",
       "      <td>157</td>\n",
       "      <td>3</td>\n",
       "      <td>0</td>\n",
       "      <td>1</td>\n",
       "      <td>0</td>\n",
       "      <td>7</td>\n",
       "      <td>1</td>\n",
       "    </tr>\n",
       "    <tr>\n",
       "      <th>1</th>\n",
       "      <td>0.80</td>\n",
       "      <td>0.86</td>\n",
       "      <td>5</td>\n",
       "      <td>262</td>\n",
       "      <td>6</td>\n",
       "      <td>0</td>\n",
       "      <td>1</td>\n",
       "      <td>0</td>\n",
       "      <td>7</td>\n",
       "      <td>2</td>\n",
       "    </tr>\n",
       "    <tr>\n",
       "      <th>2</th>\n",
       "      <td>0.11</td>\n",
       "      <td>0.88</td>\n",
       "      <td>7</td>\n",
       "      <td>272</td>\n",
       "      <td>4</td>\n",
       "      <td>0</td>\n",
       "      <td>1</td>\n",
       "      <td>0</td>\n",
       "      <td>7</td>\n",
       "      <td>2</td>\n",
       "    </tr>\n",
       "    <tr>\n",
       "      <th>3</th>\n",
       "      <td>0.72</td>\n",
       "      <td>0.87</td>\n",
       "      <td>5</td>\n",
       "      <td>223</td>\n",
       "      <td>5</td>\n",
       "      <td>0</td>\n",
       "      <td>1</td>\n",
       "      <td>0</td>\n",
       "      <td>7</td>\n",
       "      <td>1</td>\n",
       "    </tr>\n",
       "    <tr>\n",
       "      <th>4</th>\n",
       "      <td>0.37</td>\n",
       "      <td>0.52</td>\n",
       "      <td>2</td>\n",
       "      <td>159</td>\n",
       "      <td>3</td>\n",
       "      <td>0</td>\n",
       "      <td>1</td>\n",
       "      <td>0</td>\n",
       "      <td>7</td>\n",
       "      <td>1</td>\n",
       "    </tr>\n",
       "    <tr>\n",
       "      <th>...</th>\n",
       "      <td>...</td>\n",
       "      <td>...</td>\n",
       "      <td>...</td>\n",
       "      <td>...</td>\n",
       "      <td>...</td>\n",
       "      <td>...</td>\n",
       "      <td>...</td>\n",
       "      <td>...</td>\n",
       "      <td>...</td>\n",
       "      <td>...</td>\n",
       "    </tr>\n",
       "    <tr>\n",
       "      <th>14994</th>\n",
       "      <td>0.40</td>\n",
       "      <td>0.57</td>\n",
       "      <td>2</td>\n",
       "      <td>151</td>\n",
       "      <td>3</td>\n",
       "      <td>0</td>\n",
       "      <td>1</td>\n",
       "      <td>0</td>\n",
       "      <td>8</td>\n",
       "      <td>1</td>\n",
       "    </tr>\n",
       "    <tr>\n",
       "      <th>14995</th>\n",
       "      <td>0.37</td>\n",
       "      <td>0.48</td>\n",
       "      <td>2</td>\n",
       "      <td>160</td>\n",
       "      <td>3</td>\n",
       "      <td>0</td>\n",
       "      <td>1</td>\n",
       "      <td>0</td>\n",
       "      <td>8</td>\n",
       "      <td>1</td>\n",
       "    </tr>\n",
       "    <tr>\n",
       "      <th>14996</th>\n",
       "      <td>0.37</td>\n",
       "      <td>0.53</td>\n",
       "      <td>2</td>\n",
       "      <td>143</td>\n",
       "      <td>3</td>\n",
       "      <td>0</td>\n",
       "      <td>1</td>\n",
       "      <td>0</td>\n",
       "      <td>8</td>\n",
       "      <td>1</td>\n",
       "    </tr>\n",
       "    <tr>\n",
       "      <th>14997</th>\n",
       "      <td>0.11</td>\n",
       "      <td>0.96</td>\n",
       "      <td>6</td>\n",
       "      <td>280</td>\n",
       "      <td>4</td>\n",
       "      <td>0</td>\n",
       "      <td>1</td>\n",
       "      <td>0</td>\n",
       "      <td>8</td>\n",
       "      <td>1</td>\n",
       "    </tr>\n",
       "    <tr>\n",
       "      <th>14998</th>\n",
       "      <td>0.37</td>\n",
       "      <td>0.52</td>\n",
       "      <td>2</td>\n",
       "      <td>158</td>\n",
       "      <td>3</td>\n",
       "      <td>0</td>\n",
       "      <td>1</td>\n",
       "      <td>0</td>\n",
       "      <td>8</td>\n",
       "      <td>1</td>\n",
       "    </tr>\n",
       "  </tbody>\n",
       "</table>\n",
       "<p>14999 rows × 10 columns</p>\n",
       "</div>"
      ],
      "text/plain": [
       "       satisfaction_level  last_evaluation  number_project  \\\n",
       "0                    0.38             0.53               2   \n",
       "1                    0.80             0.86               5   \n",
       "2                    0.11             0.88               7   \n",
       "3                    0.72             0.87               5   \n",
       "4                    0.37             0.52               2   \n",
       "...                   ...              ...             ...   \n",
       "14994                0.40             0.57               2   \n",
       "14995                0.37             0.48               2   \n",
       "14996                0.37             0.53               2   \n",
       "14997                0.11             0.96               6   \n",
       "14998                0.37             0.52               2   \n",
       "\n",
       "       average_montly_hours  time_spend_company  Work_accident  left  \\\n",
       "0                       157                   3              0     1   \n",
       "1                       262                   6              0     1   \n",
       "2                       272                   4              0     1   \n",
       "3                       223                   5              0     1   \n",
       "4                       159                   3              0     1   \n",
       "...                     ...                 ...            ...   ...   \n",
       "14994                   151                   3              0     1   \n",
       "14995                   160                   3              0     1   \n",
       "14996                   143                   3              0     1   \n",
       "14997                   280                   4              0     1   \n",
       "14998                   158                   3              0     1   \n",
       "\n",
       "       promotion_last_5years  sales  salary  \n",
       "0                          0      7       1  \n",
       "1                          0      7       2  \n",
       "2                          0      7       2  \n",
       "3                          0      7       1  \n",
       "4                          0      7       1  \n",
       "...                      ...    ...     ...  \n",
       "14994                      0      8       1  \n",
       "14995                      0      8       1  \n",
       "14996                      0      8       1  \n",
       "14997                      0      8       1  \n",
       "14998                      0      8       1  \n",
       "\n",
       "[14999 rows x 10 columns]"
      ]
     },
     "execution_count": 15,
     "metadata": {},
     "output_type": "execute_result"
    }
   ],
   "source": [
    "df_preprocess"
   ]
  },
  {
   "cell_type": "code",
   "execution_count": 23,
   "id": "ee582f6d",
   "metadata": {},
   "outputs": [
    {
     "data": {
      "text/plain": [
       "0    11428\n",
       "1     3571\n",
       "Name: left, dtype: int64"
      ]
     },
     "execution_count": 23,
     "metadata": {},
     "output_type": "execute_result"
    }
   ],
   "source": [
    "#Ver si los datos estan equilibrados\n",
    "var_objetivo = df_preprocess['left']\n",
    "counts_var_objetivo = var_objetivo.value_counts()"
   ]
  },
  {
   "cell_type": "code",
   "execution_count": 25,
   "id": "61020741",
   "metadata": {},
   "outputs": [
    {
     "data": {
      "image/png": "[encoded data removed]",
      "text/plain": [
       "<Figure size 432x288 with 1 Axes>"
      ]
     },
     "metadata": {
      "needs_background": "light"
     },
     "output_type": "display_data"
    }
   ],
   "source": [
    "plt.bar(counts_var_objetivo.index, counts_var_objetivo.values)\n",
    "plt.xlabel('Categorías o Valores')\n",
    "plt.ylabel('Frecuencia')\n",
    "plt.title('Distribución de la variable')\n",
    "plt.xticks(range(len(counts_var_objetivo)), counts_var_objetivo.index, rotation=45)\n",
    "plt.show()"
   ]
  },
  {
   "cell_type": "markdown",
   "id": "3ba66488",
   "metadata": {},
   "source": [
    "Como podemos observar nuestros datos objetivo no se encuentran balanceados por lo quedebemos de tomar en cuenta esto cuando vayamos a utilizar las metricas de evaluación."
   ]
  },
  {
   "cell_type": "code",
   "execution_count": 56,
   "id": "70b066e6",
   "metadata": {},
   "outputs": [],
   "source": [
    "#Separando el data frame\n",
    "x = df_preprocess.drop('left', axis = 1)\n",
    "y = df_preprocess['left']"
   ]
  },
  {
   "cell_type": "code",
   "execution_count": 52,
   "id": "6920cebb",
   "metadata": {},
   "outputs": [
    {
     "data": {
      "text/plain": [
       "Text(0.5, 1.0, 'Método del codo')"
      ]
     },
     "execution_count": 52,
     "metadata": {},
     "output_type": "execute_result"
    },
    {
     "data": {
      "image/png": "[encoded data removed]",
      "text/plain": [
       "<Figure size 432x288 with 1 Axes>"
      ]
     },
     "metadata": {
      "needs_background": "light"
     },
     "output_type": "display_data"
    }
   ],
   "source": [
    "#Encontrando el valor optimo de K\n",
    "from sklearn.cluster import KMeans\n",
    "k_values = range(1,11)\n",
    "distortions = []\n",
    "for k in k_values:\n",
    "    kmeans = KMeans(n_clusters=k)\n",
    "    kmeans.fit(df_preprocess)\n",
    "    distortions.append(kmeans.inertia_)\n",
    "plt.plot(k_values, distortions, 'bx-')\n",
    "plt.xlabel('Número de grupos (K)')\n",
    "plt.ylabel('Suma de las distancias al cuadrado')\n",
    "plt.title('Método del codo')"
   ]
  },
  {
   "cell_type": "markdown",
   "id": "2a4b2f4f",
   "metadata": {},
   "source": [
    "Al realizar el metodo del codo, encontramos que el valor optimo para K es 3, que serian los K vecinos a colocar en el modelo"
   ]
  },
  {
   "cell_type": "code",
   "execution_count": 57,
   "id": "cb45820f",
   "metadata": {},
   "outputs": [
    {
     "name": "stdout",
     "output_type": "stream",
     "text": [
      "K=3, Accuracy: 0.932461576080916\n",
      "K=5, Accuracy: 0.926927887073469\n",
      "K=7, Accuracy: 0.9278608425030566\n",
      "K=9, Accuracy: 0.9251273091030343\n",
      "K=11, Accuracy: 0.9200600866955652\n"
     ]
    }
   ],
   "source": [
    "#Si hacemos lo mismo pero ahora con una validacion cruzada\n",
    "from sklearn.model_selection import cross_val_score\n",
    "from sklearn.neighbors import KNeighborsClassifier\n",
    "\n",
    "k_values = [3, 5, 7, 9, 11]\n",
    "\n",
    "# Realiza la validación cruzada para cada valor de K\n",
    "for k in k_values:\n",
    "    knn = KNeighborsClassifier(n_neighbors=k)\n",
    "    scores = cross_val_score(knn, x, y, cv=5, scoring='accuracy')\n",
    "    mean_score = scores.mean()\n",
    "    print(f\"K={k}, Accuracy: {mean_score}\")"
   ]
  },
  {
   "cell_type": "markdown",
   "id": "996c0e84",
   "metadata": {},
   "source": [
    "Ahora tenemos comprobado por dos metodos cual es valor optimo para K"
   ]
  },
  {
   "cell_type": "code",
   "execution_count": 58,
   "id": "ed3a9b30",
   "metadata": {},
   "outputs": [],
   "source": [
    "#Normalizando los datos\n",
    "from sklearn.preprocessing import MinMaxScaler\n",
    "scaler = MinMaxScaler()\n",
    "df_normalizado = scaler.fit_transform(df_preprocess)\n",
    "df_normalizado = pd.DataFrame(df_normalizado, columns = df_preprocess.columns)\n",
    "x_n = df_normalizado.drop('left', axis = 1)\n",
    "y_n = df_normalizado['left']\n"
   ]
  },
  {
   "cell_type": "code",
   "execution_count": 59,
   "id": "ef2ad772",
   "metadata": {},
   "outputs": [],
   "source": [
    "# Separando Bases de Entrenamiento\n",
    "from sklearn.model_selection import train_test_split\n",
    "x_train, x_test, y_train, y_test = train_test_split(x_n,y_n, test_size=0.30, random_state=1)"
   ]
  },
  {
   "cell_type": "code",
   "execution_count": 60,
   "id": "903e3bbc",
   "metadata": {},
   "outputs": [
    {
     "name": "stdout",
     "output_type": "stream",
     "text": [
      "Score:  0.9571111111111111\n"
     ]
    }
   ],
   "source": [
    "#Modelo KNN\n",
    "from sklearn.neighbors import KNeighborsClassifier\n",
    "knn = KNeighborsClassifier(n_neighbors=3)\n",
    "knn.fit(x_train, y_train)\n",
    "prediction = knn.predict(x_test)\n",
    "print('Score: ', knn.score(x_test, y_test))"
   ]
  },
  {
   "cell_type": "code",
   "execution_count": 63,
   "id": "88fe171e",
   "metadata": {},
   "outputs": [
    {
     "data": {
      "text/plain": [
       "array([[3297,  119],\n",
       "       [  74, 1010]], dtype=int64)"
      ]
     },
     "execution_count": 63,
     "metadata": {},
     "output_type": "execute_result"
    }
   ],
   "source": [
    "#Matriz de confusión\n",
    "y_predictions = prediction\n",
    "y_true = y_test\n",
    "#Creacion de la matriz\n",
    "from sklearn.metrics import confusion_matrix\n",
    "cm = confusion_matrix(y_true, y_predictions)\n",
    "cm"
   ]
  },
  {
   "cell_type": "code",
   "execution_count": 68,
   "id": "b13921b9",
   "metadata": {},
   "outputs": [
    {
     "data": {
      "text/html": [
       "<div>\n",
       "<style scoped>\n",
       "    .dataframe tbody tr th:only-of-type {\n",
       "        vertical-align: middle;\n",
       "    }\n",
       "\n",
       "    .dataframe tbody tr th {\n",
       "        vertical-align: top;\n",
       "    }\n",
       "\n",
       "    .dataframe thead th {\n",
       "        text-align: right;\n",
       "    }\n",
       "</style>\n",
       "<table border=\"1\" class=\"dataframe\">\n",
       "  <thead>\n",
       "    <tr style=\"text-align: right;\">\n",
       "      <th></th>\n",
       "      <th>No Abandono</th>\n",
       "      <th>Abadonado</th>\n",
       "    </tr>\n",
       "  </thead>\n",
       "  <tbody>\n",
       "    <tr>\n",
       "      <th>No Abadonado</th>\n",
       "      <td>3297</td>\n",
       "      <td>119</td>\n",
       "    </tr>\n",
       "    <tr>\n",
       "      <th>Abandonado</th>\n",
       "      <td>74</td>\n",
       "      <td>1010</td>\n",
       "    </tr>\n",
       "  </tbody>\n",
       "</table>\n",
       "</div>"
      ],
      "text/plain": [
       "              No Abandono  Abadonado\n",
       "No Abadonado         3297        119\n",
       "Abandonado             74       1010"
      ]
     },
     "execution_count": 68,
     "metadata": {},
     "output_type": "execute_result"
    }
   ],
   "source": [
    "pd.DataFrame(cm, columns = ['No Abandono', 'Abadonado'], index = ['No Abadonado', 'Abandonado'])"
   ]
  },
  {
   "cell_type": "code",
   "execution_count": 71,
   "id": "343046f2",
   "metadata": {},
   "outputs": [
    {
     "data": {
      "image/png": "[encoded data removed]",
      "text/plain": [
       "<Figure size 360x360 with 2 Axes>"
      ]
     },
     "metadata": {
      "needs_background": "light"
     },
     "output_type": "display_data"
    }
   ],
   "source": [
    "#Visualizacion de la matriz\n",
    "import seaborn as sns\n",
    "f, ax = plt.subplots(figsize = (5,5))\n",
    "sns.heatmap(cm, annot = True, linewidths=0.5, linecolor='red', fmt = '.0f', ax =ax )\n",
    "plt.xlabel('y pronosticada')\n",
    "plt.ylabel('y verdadera')\n",
    "plt.show()\n"
   ]
  },
  {
   "cell_type": "code",
   "execution_count": 72,
   "id": "b03ff80f",
   "metadata": {},
   "outputs": [
    {
     "data": {
      "text/plain": [
       "0.9571111111111111"
      ]
     },
     "execution_count": 72,
     "metadata": {},
     "output_type": "execute_result"
    }
   ],
   "source": [
    "#Calculo de precision global\n",
    "correcto = cm[0,0] + cm[1,1]\n",
    "incorrecto = cm[0,1] + cm[1,0]\n",
    "precision_global = correcto / (correcto+ incorrecto)\n",
    "precision_global"
   ]
  },
  {
   "cell_type": "code",
   "execution_count": 73,
   "id": "8f169dca",
   "metadata": {},
   "outputs": [
    {
     "data": {
      "text/plain": [
       "0.9780480569563927"
      ]
     },
     "execution_count": 73,
     "metadata": {},
     "output_type": "execute_result"
    }
   ],
   "source": [
    "PrecisionNoAbandono = cm[0,0]/(cm[0,0]+cm[1,0])\n",
    "PrecisionNoAbandono"
   ]
  },
  {
   "cell_type": "code",
   "execution_count": 74,
   "id": "c41b99de",
   "metadata": {},
   "outputs": [
    {
     "data": {
      "text/plain": [
       "0.8945969884853853"
      ]
     },
     "execution_count": 74,
     "metadata": {},
     "output_type": "execute_result"
    }
   ],
   "source": [
    "PrecisionAbandono = cm[1,1]/(cm[1,1]+cm[0,1])\n",
    "PrecisionAbandono"
   ]
  },
  {
   "cell_type": "markdown",
   "id": "5bfa26e9",
   "metadata": {},
   "source": [
    "## Curva ROC de KNN\n"
   ]
  },
  {
   "cell_type": "code",
   "execution_count": 77,
   "id": "413c07a7",
   "metadata": {},
   "outputs": [],
   "source": [
    "from sklearn.metrics import roc_curve\n",
    "from sklearn.metrics import auc\n"
   ]
  },
  {
   "cell_type": "code",
   "execution_count": 78,
   "id": "7e2817ce",
   "metadata": {},
   "outputs": [],
   "source": [
    "y_scores = knn.predict_proba(x_test)\n",
    "fpr,tpr,threshold = roc_curve(y_test, y_scores[:,1])\n",
    "roc_auc = auc(fpr,tpr)\n"
   ]
  },
  {
   "cell_type": "markdown",
   "id": "59e404d0",
   "metadata": {},
   "source": [
    "plt.title('Curva ROC de KNN')\n",
    "plt.plot(fpr, tpr, 'b', label='AUC=%0.2f' %roc_auc)\n",
    "plt.legend(loc='lower right')\n",
    "plt.plot([0,1], [0,1], 'r--')\n",
    "plt.xlim([0,1])\n",
    "plt.ylim([0,1])\n",
    "plt.ylabel('False positive rate')\n",
    "plt.xlabel('True positive rate')\n",
    "plt.show()"
   ]
  },
  {
   "cell_type": "markdown",
   "id": "c1a940d8",
   "metadata": {},
   "source": [
    "## Conclusión"
   ]
  },
  {
   "cell_type": "markdown",
   "id": "88beebc8",
   "metadata": {},
   "source": [
    "Mediante la implementación de técnicas como el método del codo y la validación cruzada, hemos determinado que el número óptimo de grupos (K) es igual a 3.\n",
    "\n",
    "Al evaluar el modelo con este valor de K, hemos logrado obtener un score global de efectividad del 95.711%. Esto indica que nuestro modelo es capaz de clasificar correctamente el 95.711% de los casos en relación a la permanencia o salida de los empleados.\n",
    "\n",
    "Además, al analizar la matriz de confusión, hemos observado que nuestro modelo tiene una alta efectividad del 97.8% para predecir cuando los empleados no abandonarán la empresa. Esta métrica es especialmente importante, ya que nos permite identificar aquellos empleados que son más propensos a permanecer con nosotros, lo que nos brinda la oportunidad de implementar estrategias de retención más efectivas."
   ]
  }
 ],
 "metadata": {
  "kernelspec": {
   "display_name": "Python 3 (ipykernel)",
   "language": "python",
   "name": "python3"
  },
  "language_info": {
   "codemirror_mode": {
    "name": "ipython",
    "version": 3
   },
   "file_extension": ".py",
   "mimetype": "text/x-python",
   "name": "python",
   "nbconvert_exporter": "python",
   "pygments_lexer": "ipython3",
   "version": "3.9.12"
  }
 },
 "nbformat": 4,
 "nbformat_minor": 5
}
