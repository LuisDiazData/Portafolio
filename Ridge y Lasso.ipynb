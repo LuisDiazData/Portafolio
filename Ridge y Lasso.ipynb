{
 "cells": [
  {
   "cell_type": "code",
   "execution_count": 80,
   "id": "b31645f0",
   "metadata": {},
   "outputs": [],
   "source": [
    "# Importando Librerias\n",
    "import pandas as pd\n",
    "import numpy as np\n",
    "import matplotlib.pyplot as plt\n",
    "import seaborn as sns\n",
    "import os\n",
    "import warnings\n",
    "warnings.filterwarnings(\"ignore\")"
   ]
  },
  {
   "cell_type": "code",
   "execution_count": 6,
   "id": "776e6f78",
   "metadata": {},
   "outputs": [
    {
     "data": {
      "text/html": [
       "<div>\n",
       "<style scoped>\n",
       "    .dataframe tbody tr th:only-of-type {\n",
       "        vertical-align: middle;\n",
       "    }\n",
       "\n",
       "    .dataframe tbody tr th {\n",
       "        vertical-align: top;\n",
       "    }\n",
       "\n",
       "    .dataframe thead th {\n",
       "        text-align: right;\n",
       "    }\n",
       "</style>\n",
       "<table border=\"1\" class=\"dataframe\">\n",
       "  <thead>\n",
       "    <tr style=\"text-align: right;\">\n",
       "      <th></th>\n",
       "      <th>MODELYEAR</th>\n",
       "      <th>MAKE</th>\n",
       "      <th>MODEL</th>\n",
       "      <th>VEHICLECLASS</th>\n",
       "      <th>ENGINESIZE</th>\n",
       "      <th>CYLINDERS</th>\n",
       "      <th>TRANSMISSION</th>\n",
       "      <th>FUELTYPE</th>\n",
       "      <th>FUELCONSUMPTION_CITY</th>\n",
       "      <th>FUELCONSUMPTION_HWY</th>\n",
       "      <th>FUELCONSUMPTION_COMB</th>\n",
       "      <th>FUELCONSUMPTION_COMB_MPG</th>\n",
       "      <th>CO2EMISSIONS</th>\n",
       "    </tr>\n",
       "  </thead>\n",
       "  <tbody>\n",
       "    <tr>\n",
       "      <th>0</th>\n",
       "      <td>2022</td>\n",
       "      <td>Acura</td>\n",
       "      <td>ILX</td>\n",
       "      <td>Compact</td>\n",
       "      <td>2.4</td>\n",
       "      <td>4</td>\n",
       "      <td>AM8</td>\n",
       "      <td>Z</td>\n",
       "      <td>9.9</td>\n",
       "      <td>7.0</td>\n",
       "      <td>8.6</td>\n",
       "      <td>33</td>\n",
       "      <td>200</td>\n",
       "    </tr>\n",
       "    <tr>\n",
       "      <th>1</th>\n",
       "      <td>2022</td>\n",
       "      <td>Acura</td>\n",
       "      <td>MDX SH-AWD</td>\n",
       "      <td>SUV: Small</td>\n",
       "      <td>3.5</td>\n",
       "      <td>6</td>\n",
       "      <td>AS10</td>\n",
       "      <td>Z</td>\n",
       "      <td>12.6</td>\n",
       "      <td>9.4</td>\n",
       "      <td>11.2</td>\n",
       "      <td>25</td>\n",
       "      <td>263</td>\n",
       "    </tr>\n",
       "    <tr>\n",
       "      <th>2</th>\n",
       "      <td>2022</td>\n",
       "      <td>Acura</td>\n",
       "      <td>RDX SH-AWD</td>\n",
       "      <td>SUV: Small</td>\n",
       "      <td>2.0</td>\n",
       "      <td>4</td>\n",
       "      <td>AS10</td>\n",
       "      <td>Z</td>\n",
       "      <td>11.0</td>\n",
       "      <td>8.6</td>\n",
       "      <td>9.9</td>\n",
       "      <td>29</td>\n",
       "      <td>232</td>\n",
       "    </tr>\n",
       "    <tr>\n",
       "      <th>3</th>\n",
       "      <td>2022</td>\n",
       "      <td>Acura</td>\n",
       "      <td>RDX SH-AWD A-SPEC</td>\n",
       "      <td>SUV: Small</td>\n",
       "      <td>2.0</td>\n",
       "      <td>4</td>\n",
       "      <td>AS10</td>\n",
       "      <td>Z</td>\n",
       "      <td>11.3</td>\n",
       "      <td>9.1</td>\n",
       "      <td>10.3</td>\n",
       "      <td>27</td>\n",
       "      <td>242</td>\n",
       "    </tr>\n",
       "    <tr>\n",
       "      <th>4</th>\n",
       "      <td>2022</td>\n",
       "      <td>Acura</td>\n",
       "      <td>TLX SH-AWD</td>\n",
       "      <td>Compact</td>\n",
       "      <td>2.0</td>\n",
       "      <td>4</td>\n",
       "      <td>AS10</td>\n",
       "      <td>Z</td>\n",
       "      <td>11.2</td>\n",
       "      <td>8.0</td>\n",
       "      <td>9.8</td>\n",
       "      <td>29</td>\n",
       "      <td>230</td>\n",
       "    </tr>\n",
       "  </tbody>\n",
       "</table>\n",
       "</div>"
      ],
      "text/plain": [
       "   MODELYEAR   MAKE              MODEL VEHICLECLASS  ENGINESIZE  CYLINDERS  \\\n",
       "0       2022  Acura                ILX      Compact         2.4          4   \n",
       "1       2022  Acura         MDX SH-AWD   SUV: Small         3.5          6   \n",
       "2       2022  Acura         RDX SH-AWD   SUV: Small         2.0          4   \n",
       "3       2022  Acura  RDX SH-AWD A-SPEC   SUV: Small         2.0          4   \n",
       "4       2022  Acura         TLX SH-AWD      Compact         2.0          4   \n",
       "\n",
       "  TRANSMISSION FUELTYPE  FUELCONSUMPTION_CITY  FUELCONSUMPTION_HWY  \\\n",
       "0          AM8        Z                   9.9                  7.0   \n",
       "1         AS10        Z                  12.6                  9.4   \n",
       "2         AS10        Z                  11.0                  8.6   \n",
       "3         AS10        Z                  11.3                  9.1   \n",
       "4         AS10        Z                  11.2                  8.0   \n",
       "\n",
       "   FUELCONSUMPTION_COMB  FUELCONSUMPTION_COMB_MPG  CO2EMISSIONS  \n",
       "0                   8.6                        33           200  \n",
       "1                  11.2                        25           263  \n",
       "2                   9.9                        29           232  \n",
       "3                  10.3                        27           242  \n",
       "4                   9.8                        29           230  "
      ]
     },
     "execution_count": 6,
     "metadata": {},
     "output_type": "execute_result"
    }
   ],
   "source": [
    "#Importando el data set\n",
    "os.chdir(\"C:\\\\Users\\\\wichi\\\\OneDrive\\\\Documentos\\\\EBAC\\\\Data Science\\\\Actividades\\\\Ridge y Lasso\")\n",
    "df = pd.read_excel('FuelConsumptionCo2.xlsx')\n",
    "df.head()"
   ]
  },
  {
   "cell_type": "code",
   "execution_count": 14,
   "id": "812175d3",
   "metadata": {
    "scrolled": true
   },
   "outputs": [
    {
     "data": {
      "text/html": [
       "<div>\n",
       "<style scoped>\n",
       "    .dataframe tbody tr th:only-of-type {\n",
       "        vertical-align: middle;\n",
       "    }\n",
       "\n",
       "    .dataframe tbody tr th {\n",
       "        vertical-align: top;\n",
       "    }\n",
       "\n",
       "    .dataframe thead th {\n",
       "        text-align: right;\n",
       "    }\n",
       "</style>\n",
       "<table border=\"1\" class=\"dataframe\">\n",
       "  <thead>\n",
       "    <tr style=\"text-align: right;\">\n",
       "      <th></th>\n",
       "      <th>ENGINESIZE</th>\n",
       "      <th>CYLINDERS</th>\n",
       "      <th>FUELCONSUMPTION_CITY</th>\n",
       "      <th>FUELCONSUMPTION_HWY</th>\n",
       "      <th>FUELCONSUMPTION_COMB</th>\n",
       "      <th>FUELCONSUMPTION_COMB_MPG</th>\n",
       "      <th>CO2EMISSIONS</th>\n",
       "    </tr>\n",
       "  </thead>\n",
       "  <tbody>\n",
       "    <tr>\n",
       "      <th>0</th>\n",
       "      <td>2.4</td>\n",
       "      <td>4</td>\n",
       "      <td>9.9</td>\n",
       "      <td>7.0</td>\n",
       "      <td>8.6</td>\n",
       "      <td>33</td>\n",
       "      <td>200</td>\n",
       "    </tr>\n",
       "    <tr>\n",
       "      <th>1</th>\n",
       "      <td>3.5</td>\n",
       "      <td>6</td>\n",
       "      <td>12.6</td>\n",
       "      <td>9.4</td>\n",
       "      <td>11.2</td>\n",
       "      <td>25</td>\n",
       "      <td>263</td>\n",
       "    </tr>\n",
       "    <tr>\n",
       "      <th>2</th>\n",
       "      <td>2.0</td>\n",
       "      <td>4</td>\n",
       "      <td>11.0</td>\n",
       "      <td>8.6</td>\n",
       "      <td>9.9</td>\n",
       "      <td>29</td>\n",
       "      <td>232</td>\n",
       "    </tr>\n",
       "    <tr>\n",
       "      <th>3</th>\n",
       "      <td>2.0</td>\n",
       "      <td>4</td>\n",
       "      <td>11.3</td>\n",
       "      <td>9.1</td>\n",
       "      <td>10.3</td>\n",
       "      <td>27</td>\n",
       "      <td>242</td>\n",
       "    </tr>\n",
       "    <tr>\n",
       "      <th>4</th>\n",
       "      <td>2.0</td>\n",
       "      <td>4</td>\n",
       "      <td>11.2</td>\n",
       "      <td>8.0</td>\n",
       "      <td>9.8</td>\n",
       "      <td>29</td>\n",
       "      <td>230</td>\n",
       "    </tr>\n",
       "  </tbody>\n",
       "</table>\n",
       "</div>"
      ],
      "text/plain": [
       "   ENGINESIZE  CYLINDERS  FUELCONSUMPTION_CITY  FUELCONSUMPTION_HWY  \\\n",
       "0         2.4          4                   9.9                  7.0   \n",
       "1         3.5          6                  12.6                  9.4   \n",
       "2         2.0          4                  11.0                  8.6   \n",
       "3         2.0          4                  11.3                  9.1   \n",
       "4         2.0          4                  11.2                  8.0   \n",
       "\n",
       "   FUELCONSUMPTION_COMB  FUELCONSUMPTION_COMB_MPG  CO2EMISSIONS  \n",
       "0                   8.6                        33           200  \n",
       "1                  11.2                        25           263  \n",
       "2                   9.9                        29           232  \n",
       "3                  10.3                        27           242  \n",
       "4                   9.8                        29           230  "
      ]
     },
     "execution_count": 14,
     "metadata": {},
     "output_type": "execute_result"
    }
   ],
   "source": [
    "#Limpiando data set y dejando solo variables numericas\n",
    "df_preprocess = df.loc[:, ['ENGINESIZE', 'CYLINDERS', 'FUELCONSUMPTION_CITY',\n",
    "       'FUELCONSUMPTION_HWY', 'FUELCONSUMPTION_COMB',\n",
    "       'FUELCONSUMPTION_COMB_MPG', 'CO2EMISSIONS']]\n",
    "df_preprocess.head()"
   ]
  },
  {
   "cell_type": "code",
   "execution_count": 16,
   "id": "f5814a6e",
   "metadata": {},
   "outputs": [
    {
     "data": {
      "text/plain": [
       "ENGINESIZE                  0\n",
       "CYLINDERS                   0\n",
       "FUELCONSUMPTION_CITY        0\n",
       "FUELCONSUMPTION_HWY         0\n",
       "FUELCONSUMPTION_COMB        0\n",
       "FUELCONSUMPTION_COMB_MPG    0\n",
       "CO2EMISSIONS                0\n",
       "dtype: int64"
      ]
     },
     "execution_count": 16,
     "metadata": {},
     "output_type": "execute_result"
    }
   ],
   "source": [
    "#Determinamos los nullos por columna\n",
    "df_preprocess.isnull().sum()"
   ]
  },
  {
   "cell_type": "code",
   "execution_count": 20,
   "id": "2a201ff6",
   "metadata": {},
   "outputs": [
    {
     "data": {
      "text/plain": [
       "<AxesSubplot: >"
      ]
     },
     "execution_count": 20,
     "metadata": {},
     "output_type": "execute_result"
    },
    {
     "data": {
      "image/png": "[encoded data removed]",
      "text/plain": [
       "<Figure size 1440x432 with 1 Axes>"
      ]
     },
     "metadata": {
      "needs_background": "light"
     },
     "output_type": "display_data"
    }
   ],
   "source": [
    "#Grafica que nos ayuda a visualizar los nulos por columnas\n",
    "plt.figure(figsize = (20,6))\n",
    "sns.heatmap(df_preprocess.isnull(),yticklabels=False, cbar=False)"
   ]
  },
  {
   "cell_type": "code",
   "execution_count": 21,
   "id": "16acf7a8",
   "metadata": {},
   "outputs": [
    {
     "data": {
      "text/plain": [
       "(945, 7)"
      ]
     },
     "execution_count": 21,
     "metadata": {},
     "output_type": "execute_result"
    }
   ],
   "source": [
    "#Numero de registros y columnas\n",
    "df_preprocess.shape"
   ]
  },
  {
   "cell_type": "code",
   "execution_count": 117,
   "id": "6f315bf0",
   "metadata": {},
   "outputs": [],
   "source": [
    "#Normalizando los datos\n",
    "from sklearn.preprocessing import StandardScaler\n",
    "scaler = StandardScaler()\n",
    "datos_normalizados = scaler.fit_transform(df_preprocess)"
   ]
  },
  {
   "cell_type": "code",
   "execution_count": 118,
   "id": "8a7eb72e",
   "metadata": {},
   "outputs": [
    {
     "data": {
      "text/html": [
       "<div>\n",
       "<style scoped>\n",
       "    .dataframe tbody tr th:only-of-type {\n",
       "        vertical-align: middle;\n",
       "    }\n",
       "\n",
       "    .dataframe tbody tr th {\n",
       "        vertical-align: top;\n",
       "    }\n",
       "\n",
       "    .dataframe thead th {\n",
       "        text-align: right;\n",
       "    }\n",
       "</style>\n",
       "<table border=\"1\" class=\"dataframe\">\n",
       "  <thead>\n",
       "    <tr style=\"text-align: right;\">\n",
       "      <th></th>\n",
       "      <th>ENGINESIZE</th>\n",
       "      <th>CYLINDERS</th>\n",
       "      <th>FUELCONSUMPTION_CITY</th>\n",
       "      <th>FUELCONSUMPTION_HWY</th>\n",
       "      <th>FUELCONSUMPTION_COMB</th>\n",
       "      <th>FUELCONSUMPTION_COMB_MPG</th>\n",
       "      <th>CO2EMISSIONS</th>\n",
       "    </tr>\n",
       "  </thead>\n",
       "  <tbody>\n",
       "    <tr>\n",
       "      <th>0</th>\n",
       "      <td>-0.583212</td>\n",
       "      <td>-0.864938</td>\n",
       "      <td>-0.758074</td>\n",
       "      <td>-1.037395</td>\n",
       "      <td>-0.869869</td>\n",
       "      <td>0.752281</td>\n",
       "      <td>-0.921779</td>\n",
       "    </tr>\n",
       "    <tr>\n",
       "      <th>1</th>\n",
       "      <td>0.217645</td>\n",
       "      <td>0.170358</td>\n",
       "      <td>0.024411</td>\n",
       "      <td>0.011095</td>\n",
       "      <td>0.033991</td>\n",
       "      <td>-0.289339</td>\n",
       "      <td>0.055691</td>\n",
       "    </tr>\n",
       "    <tr>\n",
       "      <th>2</th>\n",
       "      <td>-0.874433</td>\n",
       "      <td>-0.864938</td>\n",
       "      <td>-0.439284</td>\n",
       "      <td>-0.338402</td>\n",
       "      <td>-0.417939</td>\n",
       "      <td>0.231471</td>\n",
       "      <td>-0.425286</td>\n",
       "    </tr>\n",
       "    <tr>\n",
       "      <th>3</th>\n",
       "      <td>-0.874433</td>\n",
       "      <td>-0.864938</td>\n",
       "      <td>-0.352341</td>\n",
       "      <td>-0.119966</td>\n",
       "      <td>-0.278883</td>\n",
       "      <td>-0.028934</td>\n",
       "      <td>-0.270132</td>\n",
       "    </tr>\n",
       "    <tr>\n",
       "      <th>4</th>\n",
       "      <td>-0.874433</td>\n",
       "      <td>-0.864938</td>\n",
       "      <td>-0.381322</td>\n",
       "      <td>-0.600524</td>\n",
       "      <td>-0.452703</td>\n",
       "      <td>0.231471</td>\n",
       "      <td>-0.456317</td>\n",
       "    </tr>\n",
       "    <tr>\n",
       "      <th>...</th>\n",
       "      <td>...</td>\n",
       "      <td>...</td>\n",
       "      <td>...</td>\n",
       "      <td>...</td>\n",
       "      <td>...</td>\n",
       "      <td>...</td>\n",
       "      <td>...</td>\n",
       "    </tr>\n",
       "    <tr>\n",
       "      <th>940</th>\n",
       "      <td>-0.874433</td>\n",
       "      <td>-0.864938</td>\n",
       "      <td>-0.526227</td>\n",
       "      <td>-0.731586</td>\n",
       "      <td>-0.591758</td>\n",
       "      <td>0.361674</td>\n",
       "      <td>-0.626986</td>\n",
       "    </tr>\n",
       "    <tr>\n",
       "      <th>941</th>\n",
       "      <td>-0.874433</td>\n",
       "      <td>-0.864938</td>\n",
       "      <td>-0.584189</td>\n",
       "      <td>-0.556837</td>\n",
       "      <td>-0.591758</td>\n",
       "      <td>0.361674</td>\n",
       "      <td>-0.626986</td>\n",
       "    </tr>\n",
       "    <tr>\n",
       "      <th>942</th>\n",
       "      <td>-0.874433</td>\n",
       "      <td>-0.864938</td>\n",
       "      <td>-0.439284</td>\n",
       "      <td>-0.294715</td>\n",
       "      <td>-0.417939</td>\n",
       "      <td>0.231471</td>\n",
       "      <td>-0.425286</td>\n",
       "    </tr>\n",
       "    <tr>\n",
       "      <th>943</th>\n",
       "      <td>-0.874433</td>\n",
       "      <td>-0.864938</td>\n",
       "      <td>-0.294379</td>\n",
       "      <td>-0.425776</td>\n",
       "      <td>-0.348411</td>\n",
       "      <td>0.101269</td>\n",
       "      <td>-0.363225</td>\n",
       "    </tr>\n",
       "    <tr>\n",
       "      <th>944</th>\n",
       "      <td>-0.874433</td>\n",
       "      <td>-0.864938</td>\n",
       "      <td>-0.033550</td>\n",
       "      <td>-0.207340</td>\n",
       "      <td>-0.105064</td>\n",
       "      <td>-0.159136</td>\n",
       "      <td>-0.114978</td>\n",
       "    </tr>\n",
       "  </tbody>\n",
       "</table>\n",
       "<p>945 rows × 7 columns</p>\n",
       "</div>"
      ],
      "text/plain": [
       "     ENGINESIZE  CYLINDERS  FUELCONSUMPTION_CITY  FUELCONSUMPTION_HWY  \\\n",
       "0     -0.583212  -0.864938             -0.758074            -1.037395   \n",
       "1      0.217645   0.170358              0.024411             0.011095   \n",
       "2     -0.874433  -0.864938             -0.439284            -0.338402   \n",
       "3     -0.874433  -0.864938             -0.352341            -0.119966   \n",
       "4     -0.874433  -0.864938             -0.381322            -0.600524   \n",
       "..          ...        ...                   ...                  ...   \n",
       "940   -0.874433  -0.864938             -0.526227            -0.731586   \n",
       "941   -0.874433  -0.864938             -0.584189            -0.556837   \n",
       "942   -0.874433  -0.864938             -0.439284            -0.294715   \n",
       "943   -0.874433  -0.864938             -0.294379            -0.425776   \n",
       "944   -0.874433  -0.864938             -0.033550            -0.207340   \n",
       "\n",
       "     FUELCONSUMPTION_COMB  FUELCONSUMPTION_COMB_MPG  CO2EMISSIONS  \n",
       "0               -0.869869                  0.752281     -0.921779  \n",
       "1                0.033991                 -0.289339      0.055691  \n",
       "2               -0.417939                  0.231471     -0.425286  \n",
       "3               -0.278883                 -0.028934     -0.270132  \n",
       "4               -0.452703                  0.231471     -0.456317  \n",
       "..                    ...                       ...           ...  \n",
       "940             -0.591758                  0.361674     -0.626986  \n",
       "941             -0.591758                  0.361674     -0.626986  \n",
       "942             -0.417939                  0.231471     -0.425286  \n",
       "943             -0.348411                  0.101269     -0.363225  \n",
       "944             -0.105064                 -0.159136     -0.114978  \n",
       "\n",
       "[945 rows x 7 columns]"
      ]
     },
     "execution_count": 118,
     "metadata": {},
     "output_type": "execute_result"
    }
   ],
   "source": [
    "#Creando el dataframe Normalizado\n",
    "df_normalizado = pd.DataFrame(datos_normalizados, columns = df_preprocess.columns  )\n",
    "df_normalizado"
   ]
  },
  {
   "cell_type": "code",
   "execution_count": 119,
   "id": "381bc415",
   "metadata": {},
   "outputs": [],
   "source": [
    "#Separar las variables independientes y dependiente (variable a predecir)\n",
    "x = df_normalizado.drop('CO2EMISSIONS', axis=1)\n",
    "y = df_normalizado['CO2EMISSIONS']\n"
   ]
  },
  {
   "cell_type": "code",
   "execution_count": 120,
   "id": "26be78fb",
   "metadata": {},
   "outputs": [
    {
     "data": {
      "text/html": [
       "<div>\n",
       "<style scoped>\n",
       "    .dataframe tbody tr th:only-of-type {\n",
       "        vertical-align: middle;\n",
       "    }\n",
       "\n",
       "    .dataframe tbody tr th {\n",
       "        vertical-align: top;\n",
       "    }\n",
       "\n",
       "    .dataframe thead th {\n",
       "        text-align: right;\n",
       "    }\n",
       "</style>\n",
       "<table border=\"1\" class=\"dataframe\">\n",
       "  <thead>\n",
       "    <tr style=\"text-align: right;\">\n",
       "      <th></th>\n",
       "      <th>ENGINESIZE</th>\n",
       "      <th>CYLINDERS</th>\n",
       "      <th>FUELCONSUMPTION_CITY</th>\n",
       "      <th>FUELCONSUMPTION_HWY</th>\n",
       "      <th>FUELCONSUMPTION_COMB</th>\n",
       "      <th>FUELCONSUMPTION_COMB_MPG</th>\n",
       "    </tr>\n",
       "  </thead>\n",
       "  <tbody>\n",
       "    <tr>\n",
       "      <th>0</th>\n",
       "      <td>-0.583212</td>\n",
       "      <td>-0.864938</td>\n",
       "      <td>-0.758074</td>\n",
       "      <td>-1.037395</td>\n",
       "      <td>-0.869869</td>\n",
       "      <td>0.752281</td>\n",
       "    </tr>\n",
       "    <tr>\n",
       "      <th>1</th>\n",
       "      <td>0.217645</td>\n",
       "      <td>0.170358</td>\n",
       "      <td>0.024411</td>\n",
       "      <td>0.011095</td>\n",
       "      <td>0.033991</td>\n",
       "      <td>-0.289339</td>\n",
       "    </tr>\n",
       "    <tr>\n",
       "      <th>2</th>\n",
       "      <td>-0.874433</td>\n",
       "      <td>-0.864938</td>\n",
       "      <td>-0.439284</td>\n",
       "      <td>-0.338402</td>\n",
       "      <td>-0.417939</td>\n",
       "      <td>0.231471</td>\n",
       "    </tr>\n",
       "    <tr>\n",
       "      <th>3</th>\n",
       "      <td>-0.874433</td>\n",
       "      <td>-0.864938</td>\n",
       "      <td>-0.352341</td>\n",
       "      <td>-0.119966</td>\n",
       "      <td>-0.278883</td>\n",
       "      <td>-0.028934</td>\n",
       "    </tr>\n",
       "    <tr>\n",
       "      <th>4</th>\n",
       "      <td>-0.874433</td>\n",
       "      <td>-0.864938</td>\n",
       "      <td>-0.381322</td>\n",
       "      <td>-0.600524</td>\n",
       "      <td>-0.452703</td>\n",
       "      <td>0.231471</td>\n",
       "    </tr>\n",
       "  </tbody>\n",
       "</table>\n",
       "</div>"
      ],
      "text/plain": [
       "   ENGINESIZE  CYLINDERS  FUELCONSUMPTION_CITY  FUELCONSUMPTION_HWY  \\\n",
       "0   -0.583212  -0.864938             -0.758074            -1.037395   \n",
       "1    0.217645   0.170358              0.024411             0.011095   \n",
       "2   -0.874433  -0.864938             -0.439284            -0.338402   \n",
       "3   -0.874433  -0.864938             -0.352341            -0.119966   \n",
       "4   -0.874433  -0.864938             -0.381322            -0.600524   \n",
       "\n",
       "   FUELCONSUMPTION_COMB  FUELCONSUMPTION_COMB_MPG  \n",
       "0             -0.869869                  0.752281  \n",
       "1              0.033991                 -0.289339  \n",
       "2             -0.417939                  0.231471  \n",
       "3             -0.278883                 -0.028934  \n",
       "4             -0.452703                  0.231471  "
      ]
     },
     "execution_count": 120,
     "metadata": {},
     "output_type": "execute_result"
    }
   ],
   "source": [
    "x.head()"
   ]
  },
  {
   "cell_type": "code",
   "execution_count": 121,
   "id": "456daa9d",
   "metadata": {},
   "outputs": [
    {
     "data": {
      "text/plain": [
       "0   -0.921779\n",
       "1    0.055691\n",
       "2   -0.425286\n",
       "3   -0.270132\n",
       "4   -0.456317\n",
       "Name: CO2EMISSIONS, dtype: float64"
      ]
     },
     "execution_count": 121,
     "metadata": {},
     "output_type": "execute_result"
    }
   ],
   "source": [
    "y.head()"
   ]
  },
  {
   "cell_type": "code",
   "execution_count": 122,
   "id": "6507f5e8",
   "metadata": {},
   "outputs": [],
   "source": [
    "#Dividir bases de entrenamiento\n",
    "from sklearn.model_selection import train_test_split\n",
    "x_train, x_test, y_train, y_test=train_test_split(x,y,test_size=.30,random_state=1)"
   ]
  },
  {
   "cell_type": "markdown",
   "id": "87776d14",
   "metadata": {},
   "source": [
    "# Preparando los modelos"
   ]
  },
  {
   "cell_type": "markdown",
   "id": "e3a5647f",
   "metadata": {},
   "source": [
    "## Regresión lineal múltiple"
   ]
  },
  {
   "cell_type": "code",
   "execution_count": 292,
   "id": "21e9a31a",
   "metadata": {},
   "outputs": [
    {
     "data": {
      "text/html": [
       "<style>#sk-container-id-5 {color: black;background-color: white;}#sk-container-id-5 pre{padding: 0;}#sk-container-id-5 div.sk-toggleable {background-color: white;}#sk-container-id-5 label.sk-toggleable__label {cursor: pointer;display: block;width: 100%;margin-bottom: 0;padding: 0.3em;box-sizing: border-box;text-align: center;}#sk-container-id-5 label.sk-toggleable__label-arrow:before {content: \"▸\";float: left;margin-right: 0.25em;color: #696969;}#sk-container-id-5 label.sk-toggleable__label-arrow:hover:before {color: black;}#sk-container-id-5 div.sk-estimator:hover label.sk-toggleable__label-arrow:before {color: black;}#sk-container-id-5 div.sk-toggleable__content {max-height: 0;max-width: 0;overflow: hidden;text-align: left;background-color: #f0f8ff;}#sk-container-id-5 div.sk-toggleable__content pre {margin: 0.2em;color: black;border-radius: 0.25em;background-color: #f0f8ff;}#sk-container-id-5 input.sk-toggleable__control:checked~div.sk-toggleable__content {max-height: 200px;max-width: 100%;overflow: auto;}#sk-container-id-5 input.sk-toggleable__control:checked~label.sk-toggleable__label-arrow:before {content: \"▾\";}#sk-container-id-5 div.sk-estimator input.sk-toggleable__control:checked~label.sk-toggleable__label {background-color: #d4ebff;}#sk-container-id-5 div.sk-label input.sk-toggleable__control:checked~label.sk-toggleable__label {background-color: #d4ebff;}#sk-container-id-5 input.sk-hidden--visually {border: 0;clip: rect(1px 1px 1px 1px);clip: rect(1px, 1px, 1px, 1px);height: 1px;margin: -1px;overflow: hidden;padding: 0;position: absolute;width: 1px;}#sk-container-id-5 div.sk-estimator {font-family: monospace;background-color: #f0f8ff;border: 1px dotted black;border-radius: 0.25em;box-sizing: border-box;margin-bottom: 0.5em;}#sk-container-id-5 div.sk-estimator:hover {background-color: #d4ebff;}#sk-container-id-5 div.sk-parallel-item::after {content: \"\";width: 100%;border-bottom: 1px solid gray;flex-grow: 1;}#sk-container-id-5 div.sk-label:hover label.sk-toggleable__label {background-color: #d4ebff;}#sk-container-id-5 div.sk-serial::before {content: \"\";position: absolute;border-left: 1px solid gray;box-sizing: border-box;top: 0;bottom: 0;left: 50%;z-index: 0;}#sk-container-id-5 div.sk-serial {display: flex;flex-direction: column;align-items: center;background-color: white;padding-right: 0.2em;padding-left: 0.2em;position: relative;}#sk-container-id-5 div.sk-item {position: relative;z-index: 1;}#sk-container-id-5 div.sk-parallel {display: flex;align-items: stretch;justify-content: center;background-color: white;position: relative;}#sk-container-id-5 div.sk-item::before, #sk-container-id-5 div.sk-parallel-item::before {content: \"\";position: absolute;border-left: 1px solid gray;box-sizing: border-box;top: 0;bottom: 0;left: 50%;z-index: -1;}#sk-container-id-5 div.sk-parallel-item {display: flex;flex-direction: column;z-index: 1;position: relative;background-color: white;}#sk-container-id-5 div.sk-parallel-item:first-child::after {align-self: flex-end;width: 50%;}#sk-container-id-5 div.sk-parallel-item:last-child::after {align-self: flex-start;width: 50%;}#sk-container-id-5 div.sk-parallel-item:only-child::after {width: 0;}#sk-container-id-5 div.sk-dashed-wrapped {border: 1px dashed gray;margin: 0 0.4em 0.5em 0.4em;box-sizing: border-box;padding-bottom: 0.4em;background-color: white;}#sk-container-id-5 div.sk-label label {font-family: monospace;font-weight: bold;display: inline-block;line-height: 1.2em;}#sk-container-id-5 div.sk-label-container {text-align: center;}#sk-container-id-5 div.sk-container {/* jupyter's `normalize.less` sets `[hidden] { display: none; }` but bootstrap.min.css set `[hidden] { display: none !important; }` so we also need the `!important` here to be able to override the default hidden behavior on the sphinx rendered scikit-learn.org. See: https://github.com/scikit-learn/scikit-learn/issues/21755 */display: inline-block !important;position: relative;}#sk-container-id-5 div.sk-text-repr-fallback {display: none;}</style><div id=\"sk-container-id-5\" class=\"sk-top-container\"><div class=\"sk-text-repr-fallback\"><pre>LinearRegression()</pre><b>In a Jupyter environment, please rerun this cell to show the HTML representation or trust the notebook. <br />On GitHub, the HTML representation is unable to render, please try loading this page with nbviewer.org.</b></div><div class=\"sk-container\" hidden><div class=\"sk-item\"><div class=\"sk-estimator sk-toggleable\"><input class=\"sk-toggleable__control sk-hidden--visually\" id=\"sk-estimator-id-5\" type=\"checkbox\" checked><label for=\"sk-estimator-id-5\" class=\"sk-toggleable__label sk-toggleable__label-arrow\">LinearRegression</label><div class=\"sk-toggleable__content\"><pre>LinearRegression()</pre></div></div></div></div></div>"
      ],
      "text/plain": [
       "LinearRegression()"
      ]
     },
     "execution_count": 292,
     "metadata": {},
     "output_type": "execute_result"
    }
   ],
   "source": [
    "from sklearn.linear_model import LinearRegression\n",
    "linreg = LinearRegression()\n",
    "linreg.fit(x_train, y_train)"
   ]
  },
  {
   "cell_type": "code",
   "execution_count": 293,
   "id": "83ae90c5",
   "metadata": {},
   "outputs": [
    {
     "name": "stdout",
     "output_type": "stream",
     "text": [
      "Interceptor:  -0.006909985207992804\n",
      "Coeficientes:  [-3.22890763e-04  1.92736420e-01 -7.10047949e-02  1.87172132e-02\n",
      "  6.48858299e-01 -2.24376080e-01]\n"
     ]
    }
   ],
   "source": [
    "#Coeficientes\n",
    "print('Interceptor: ', linreg.intercept_)\n",
    "print('Coeficientes: ', linreg.coef_)"
   ]
  },
  {
   "cell_type": "markdown",
   "id": "1004ce12",
   "metadata": {},
   "source": [
    "El interceptor (también conocido como constante) es el valor de la variable dependiente cuando todas las variables independientes son iguales a cero.\n",
    "Los coeficientes de regresión lineal muestran la relación entre la variable dependiente y cada una de las variables independientes. Un coeficiente positivo indica que hay una relación positiva entre las dos variables, lo que significa que a medida que aumenta la variable independiente, también aumenta la variable dependiente. Un coeficiente negativo indica una relación negativa, lo que significa que a medida que aumenta la variable independiente, la variable dependiente disminuye.\n"
   ]
  },
  {
   "cell_type": "code",
   "execution_count": 281,
   "id": "635f8e79",
   "metadata": {},
   "outputs": [],
   "source": [
    "#Predecir la variable dependiente\n",
    "y_pred = linreg.predict(x_test)\n"
   ]
  },
  {
   "cell_type": "code",
   "execution_count": 334,
   "id": "591bd89e",
   "metadata": {},
   "outputs": [],
   "source": [
    "#Calculos de la bondad entre los resultados predichos y los valores reales\n",
    "from sklearn.metrics import r2_score\n",
    "from sklearn import metrics\n",
    "r_2_score_m = r2_score(y_test,y_pred)\n",
    "v_abs_med_m= metrics.mean_absolute_error(y_test,y_pred)\n",
    "mean_squared_er_m = metrics.mean_squared_error(y_test,y_pred)\n",
    "err_cuad_medio_m = np.sqrt(metrics.mean_squared_error(y_test,y_pred))\n"
   ]
  },
  {
   "cell_type": "markdown",
   "id": "5395b1bf",
   "metadata": {},
   "source": [
    "### Regresión regularizada Ridge"
   ]
  },
  {
   "cell_type": "code",
   "execution_count": 253,
   "id": "b69956ca",
   "metadata": {},
   "outputs": [
    {
     "data": {
      "text/plain": [
       "array([1.e-02, 1.e-01, 1.e+00, 1.e+01, 1.e+02])"
      ]
     },
     "execution_count": 253,
     "metadata": {},
     "output_type": "execute_result"
    }
   ],
   "source": [
    "# Definir un rango de prueba para el valor de Alpha\n",
    "alpha_range = 10.**np.arange(-2,3)\n",
    "alpha_range"
   ]
  },
  {
   "cell_type": "code",
   "execution_count": 254,
   "id": "ee4a6285",
   "metadata": {},
   "outputs": [],
   "source": [
    "from sklearn.linear_model import RidgeCV"
   ]
  },
  {
   "cell_type": "code",
   "execution_count": 255,
   "id": "a695cdf5",
   "metadata": {},
   "outputs": [
    {
     "data": {
      "text/html": [
       "<style>#sk-container-id-3 {color: black;background-color: white;}#sk-container-id-3 pre{padding: 0;}#sk-container-id-3 div.sk-toggleable {background-color: white;}#sk-container-id-3 label.sk-toggleable__label {cursor: pointer;display: block;width: 100%;margin-bottom: 0;padding: 0.3em;box-sizing: border-box;text-align: center;}#sk-container-id-3 label.sk-toggleable__label-arrow:before {content: \"▸\";float: left;margin-right: 0.25em;color: #696969;}#sk-container-id-3 label.sk-toggleable__label-arrow:hover:before {color: black;}#sk-container-id-3 div.sk-estimator:hover label.sk-toggleable__label-arrow:before {color: black;}#sk-container-id-3 div.sk-toggleable__content {max-height: 0;max-width: 0;overflow: hidden;text-align: left;background-color: #f0f8ff;}#sk-container-id-3 div.sk-toggleable__content pre {margin: 0.2em;color: black;border-radius: 0.25em;background-color: #f0f8ff;}#sk-container-id-3 input.sk-toggleable__control:checked~div.sk-toggleable__content {max-height: 200px;max-width: 100%;overflow: auto;}#sk-container-id-3 input.sk-toggleable__control:checked~label.sk-toggleable__label-arrow:before {content: \"▾\";}#sk-container-id-3 div.sk-estimator input.sk-toggleable__control:checked~label.sk-toggleable__label {background-color: #d4ebff;}#sk-container-id-3 div.sk-label input.sk-toggleable__control:checked~label.sk-toggleable__label {background-color: #d4ebff;}#sk-container-id-3 input.sk-hidden--visually {border: 0;clip: rect(1px 1px 1px 1px);clip: rect(1px, 1px, 1px, 1px);height: 1px;margin: -1px;overflow: hidden;padding: 0;position: absolute;width: 1px;}#sk-container-id-3 div.sk-estimator {font-family: monospace;background-color: #f0f8ff;border: 1px dotted black;border-radius: 0.25em;box-sizing: border-box;margin-bottom: 0.5em;}#sk-container-id-3 div.sk-estimator:hover {background-color: #d4ebff;}#sk-container-id-3 div.sk-parallel-item::after {content: \"\";width: 100%;border-bottom: 1px solid gray;flex-grow: 1;}#sk-container-id-3 div.sk-label:hover label.sk-toggleable__label {background-color: #d4ebff;}#sk-container-id-3 div.sk-serial::before {content: \"\";position: absolute;border-left: 1px solid gray;box-sizing: border-box;top: 0;bottom: 0;left: 50%;z-index: 0;}#sk-container-id-3 div.sk-serial {display: flex;flex-direction: column;align-items: center;background-color: white;padding-right: 0.2em;padding-left: 0.2em;position: relative;}#sk-container-id-3 div.sk-item {position: relative;z-index: 1;}#sk-container-id-3 div.sk-parallel {display: flex;align-items: stretch;justify-content: center;background-color: white;position: relative;}#sk-container-id-3 div.sk-item::before, #sk-container-id-3 div.sk-parallel-item::before {content: \"\";position: absolute;border-left: 1px solid gray;box-sizing: border-box;top: 0;bottom: 0;left: 50%;z-index: -1;}#sk-container-id-3 div.sk-parallel-item {display: flex;flex-direction: column;z-index: 1;position: relative;background-color: white;}#sk-container-id-3 div.sk-parallel-item:first-child::after {align-self: flex-end;width: 50%;}#sk-container-id-3 div.sk-parallel-item:last-child::after {align-self: flex-start;width: 50%;}#sk-container-id-3 div.sk-parallel-item:only-child::after {width: 0;}#sk-container-id-3 div.sk-dashed-wrapped {border: 1px dashed gray;margin: 0 0.4em 0.5em 0.4em;box-sizing: border-box;padding-bottom: 0.4em;background-color: white;}#sk-container-id-3 div.sk-label label {font-family: monospace;font-weight: bold;display: inline-block;line-height: 1.2em;}#sk-container-id-3 div.sk-label-container {text-align: center;}#sk-container-id-3 div.sk-container {/* jupyter's `normalize.less` sets `[hidden] { display: none; }` but bootstrap.min.css set `[hidden] { display: none !important; }` so we also need the `!important` here to be able to override the default hidden behavior on the sphinx rendered scikit-learn.org. See: https://github.com/scikit-learn/scikit-learn/issues/21755 */display: inline-block !important;position: relative;}#sk-container-id-3 div.sk-text-repr-fallback {display: none;}</style><div id=\"sk-container-id-3\" class=\"sk-top-container\"><div class=\"sk-text-repr-fallback\"><pre>RidgeCV(alphas=array([1.e-02, 1.e-01, 1.e+00, 1.e+01, 1.e+02]), normalize=True,\n",
       "        scoring=&#x27;neg_mean_squared_error&#x27;)</pre><b>In a Jupyter environment, please rerun this cell to show the HTML representation or trust the notebook. <br />On GitHub, the HTML representation is unable to render, please try loading this page with nbviewer.org.</b></div><div class=\"sk-container\" hidden><div class=\"sk-item\"><div class=\"sk-estimator sk-toggleable\"><input class=\"sk-toggleable__control sk-hidden--visually\" id=\"sk-estimator-id-3\" type=\"checkbox\" checked><label for=\"sk-estimator-id-3\" class=\"sk-toggleable__label sk-toggleable__label-arrow\">RidgeCV</label><div class=\"sk-toggleable__content\"><pre>RidgeCV(alphas=array([1.e-02, 1.e-01, 1.e+00, 1.e+01, 1.e+02]), normalize=True,\n",
       "        scoring=&#x27;neg_mean_squared_error&#x27;)</pre></div></div></div></div></div>"
      ],
      "text/plain": [
       "RidgeCV(alphas=array([1.e-02, 1.e-01, 1.e+00, 1.e+01, 1.e+02]), normalize=True,\n",
       "        scoring='neg_mean_squared_error')"
      ]
     },
     "execution_count": 255,
     "metadata": {},
     "output_type": "execute_result"
    }
   ],
   "source": [
    "ridgecv = RidgeCV(alphas=alpha_range, normalize = True, scoring ='neg_mean_squared_error')\n",
    "ridgecv.fit(x_train,y_train)"
   ]
  },
  {
   "cell_type": "code",
   "execution_count": 257,
   "id": "42af7c5e",
   "metadata": {},
   "outputs": [
    {
     "data": {
      "text/plain": [
       "0.01"
      ]
     },
     "execution_count": 257,
     "metadata": {},
     "output_type": "execute_result"
    }
   ],
   "source": [
    "ridgecv.alpha_"
   ]
  },
  {
   "cell_type": "code",
   "execution_count": 336,
   "id": "85e2ca09",
   "metadata": {
    "scrolled": true
   },
   "outputs": [],
   "source": [
    "from sklearn.linear_model import Ridge\n",
    "ridgereg = Ridge(alpha=ridgecv.alpha_, normalize = True)\n",
    "ridgereg.fit(x_train, y_train)\n",
    "y_pred = ridgereg.predict(x_test)\n",
    "#Calculos de la bondad entre los resultados predichos y los valores reales\n",
    "from sklearn.metrics import r2_score\n",
    "from sklearn import metrics\n",
    "r_2_score_r = r2_score(y_test,y_pred)\n",
    "v_abs_med_r= metrics.mean_absolute_error(y_test,y_pred)\n",
    "mean_squared_er_r = metrics.mean_squared_error(y_test,y_pred)\n",
    "err_cuad_medio_r = np.sqrt(metrics.mean_squared_error(y_test,y_pred))"
   ]
  },
  {
   "cell_type": "markdown",
   "id": "8a1b6222",
   "metadata": {},
   "source": [
    "### Regresión regularizada Lasso"
   ]
  },
  {
   "cell_type": "code",
   "execution_count": 259,
   "id": "2a6f4697",
   "metadata": {},
   "outputs": [
    {
     "name": "stdout",
     "output_type": "stream",
     "text": [
      "Alpha óptimo:  0.00011622048132416951\n"
     ]
    }
   ],
   "source": [
    "from sklearn.linear_model import LassoCV\n",
    "lassoregcv = LassoCV(n_alphas=100, normalize = True, random_state=1)\n",
    "lassoregcv.fit(x_train,y_train)\n",
    "print(\"Alpha óptimo: \", lassoregcv.alpha_)"
   ]
  },
  {
   "cell_type": "code",
   "execution_count": 260,
   "id": "0f405d46",
   "metadata": {},
   "outputs": [
    {
     "name": "stdout",
     "output_type": "stream",
     "text": [
      "Interceptor:  -0.0066078833092236\n",
      "Coeficientes:  [ 0.          0.18879481  0.24460323  0.1871836   0.17665942 -0.22070875]\n"
     ]
    }
   ],
   "source": [
    "print(\"Interceptor: \", lassoregcv.intercept_)\n",
    "print(\"Coeficientes: \", lassoregcv.coef_)"
   ]
  },
  {
   "cell_type": "code",
   "execution_count": 337,
   "id": "51511b45",
   "metadata": {},
   "outputs": [],
   "source": [
    "y_pred =lassoregcv.predict(x_test)\n",
    "#Calculos de la bondad entre los resultados predichos y los valores reales\n",
    "from sklearn.metrics import r2_score\n",
    "from sklearn import metrics\n",
    "r_2_score_L = r2_score(y_test,y_pred)\n",
    "v_abs_med_L= metrics.mean_absolute_error(y_test,y_pred)\n",
    "mean_squared_er_L = metrics.mean_squared_error(y_test,y_pred)\n",
    "err_cuad_medio_L = np.sqrt(metrics.mean_squared_error(y_test,y_pred))"
   ]
  },
  {
   "cell_type": "markdown",
   "id": "24db8c62",
   "metadata": {},
   "source": [
    "# Comparación de bondad de los modelos"
   ]
  },
  {
   "cell_type": "code",
   "execution_count": 345,
   "id": "895be3c4",
   "metadata": {},
   "outputs": [
    {
     "data": {
      "text/html": [
       "<div>\n",
       "<style scoped>\n",
       "    .dataframe tbody tr th:only-of-type {\n",
       "        vertical-align: middle;\n",
       "    }\n",
       "\n",
       "    .dataframe tbody tr th {\n",
       "        vertical-align: top;\n",
       "    }\n",
       "\n",
       "    .dataframe thead th {\n",
       "        text-align: right;\n",
       "    }\n",
       "</style>\n",
       "<table border=\"1\" class=\"dataframe\">\n",
       "  <thead>\n",
       "    <tr style=\"text-align: right;\">\n",
       "      <th></th>\n",
       "      <th>Regresión Multiple</th>\n",
       "      <th>Regresión Ridge</th>\n",
       "      <th>Regresión Lasso</th>\n",
       "    </tr>\n",
       "  </thead>\n",
       "  <tbody>\n",
       "    <tr>\n",
       "      <th>R2_Score</th>\n",
       "      <td>0.977616</td>\n",
       "      <td>0.977616</td>\n",
       "      <td>0.977465</td>\n",
       "    </tr>\n",
       "    <tr>\n",
       "      <th>MAE</th>\n",
       "      <td>0.099671</td>\n",
       "      <td>0.099671</td>\n",
       "      <td>0.099899</td>\n",
       "    </tr>\n",
       "    <tr>\n",
       "      <th>MSE</th>\n",
       "      <td>0.020621</td>\n",
       "      <td>0.020621</td>\n",
       "      <td>0.020760</td>\n",
       "    </tr>\n",
       "    <tr>\n",
       "      <th>RMSE</th>\n",
       "      <td>0.143600</td>\n",
       "      <td>0.143600</td>\n",
       "      <td>0.144083</td>\n",
       "    </tr>\n",
       "  </tbody>\n",
       "</table>\n",
       "</div>"
      ],
      "text/plain": [
       "          Regresión Multiple  Regresión Ridge  Regresión Lasso\n",
       "R2_Score            0.977616         0.977616         0.977465\n",
       "MAE                 0.099671         0.099671         0.099899\n",
       "MSE                 0.020621         0.020621         0.020760\n",
       "RMSE                0.143600         0.143600         0.144083"
      ]
     },
     "execution_count": 345,
     "metadata": {},
     "output_type": "execute_result"
    }
   ],
   "source": [
    "resultados_B_multiple = np.array([r_2_score_m, v_abs_med_m,mean_squared_er_m,err_cuad_medio_m] )\n",
    "resultados_m_ridge = np.array([r_2_score_r, v_abs_med_r,mean_squared_er_r,err_cuad_medio_r] )\n",
    "resultados_m_L = np.array([r_2_score_L, v_abs_med_L,mean_squared_er_L,err_cuad_medio_L] )\n",
    "df_bondad = pd.DataFrame({'Regresión Multiple': resultados_B_multiple, 'Regresión Ridge': resultados_m_ridge, 'Regresión Lasso': resultados_m_L}, index=['R2_Score','MAE','MSE','RMSE'])\n",
    "df_bondad"
   ]
  },
  {
   "cell_type": "markdown",
   "id": "3fe05370",
   "metadata": {},
   "source": [
    "Una interpretación del *R2_score* es que cuanto más cercano esté este valor a 1, mayor será la proporción de la variabilidad de la variable dependiente que se puede explicar por el modelo de regresión, lo que significa que el modelo se ajusta mejor a los datos.\n",
    "\n",
    "El *MAE* se calcula como la media de las diferencias absolutas entre cada predicción del modelo y su valor verdadero correspondiente. En otras palabras, mide cuánto se desvían en promedio las predicciones del modelo de los valores verdaderos de la variable dependiente. \n",
    "\n",
    "Una forma de interpretar el *MSE* es que cuanto menor sea el valor, mejor será el ajuste del modelo a los datos. Un valor de ECM de cero indicaría que el modelo predice perfectamente la variable dependiente. \n",
    "\n",
    "Al igual que el MSE, un valor de *RMSE* más bajo indica que el modelo se ajusta mejor a los datos y hace predicciones más precisas. "
   ]
  },
  {
   "cell_type": "markdown",
   "id": "a15322fb",
   "metadata": {},
   "source": [
    "### Prediciendo la variable dependiente"
   ]
  },
  {
   "cell_type": "code",
   "execution_count": 247,
   "id": "22fc5fe7",
   "metadata": {},
   "outputs": [
    {
     "name": "stdout",
     "output_type": "stream",
     "text": [
      "¿Cual es el tamaño del motor? 2.0\n",
      "¿Cuantos cilindros tiene tu auto? 4\n",
      "¿Cual es el rendimiento de gasolina por milla en ciudad? 11.0\n",
      "¿Cual es el rendimiento de gasolina por milla en carretera? 8.6\n",
      "¿Cual es el rendimiento de gasolina por milla combinado? 9.9\n",
      "¿Cual es el rendimiento de gasolina por milla combinado? 29\n"
     ]
    }
   ],
   "source": [
    "# Capturando los datos de entrada\n",
    "ENGINESIZE_user = float(input('¿Cual es el tamaño del motor? '))\n",
    "CYLINDERS_user= int(input('¿Cuantos cilindros tiene tu auto? '))\n",
    "FUELCONSUMPTION_CITY_user=float(input('¿Cual es el rendimiento de gasolina por milla en ciudad? '))\n",
    "FUELCONSUMPTION_HWY_user=float(input('¿Cual es el rendimiento de gasolina por milla en carretera? '))\n",
    "FUELCONSUMPTION_COMB_user=float(input('¿Cual es el rendimiento de gasolina por milla combinado? '))\n",
    "FUELCONSUMPTION_COMB_MPG_user=float(input('¿Cual es el rendimiento de gasolina por milla combinado? '))\n",
    "# Colocar las variables en un array\n",
    "data_user = np.array([ENGINESIZE_user,CYLINDERS_user,FUELCONSUMPTION_CITY_user,FUELCONSUMPTION_HWY_user,FUELCONSUMPTION_COMB_user,FUELCONSUMPTION_COMB_MPG_user]).reshape(1,-1)\n"
   ]
  },
  {
   "cell_type": "code",
   "execution_count": 298,
   "id": "ba51af48",
   "metadata": {},
   "outputs": [
    {
     "data": {
      "text/plain": [
       "array([[-0.87443259, -0.86493817, -0.38132192, -0.60052423, -0.45270265,\n",
       "         0.23147117]])"
      ]
     },
     "execution_count": 298,
     "metadata": {},
     "output_type": "execute_result"
    }
   ],
   "source": [
    "#Normalizando los datos de entrada del usuario \n",
    "scaler_user = StandardScaler()\n",
    "datos_independientes_normalizados = scaler_user.fit_transform(df_preprocess[['ENGINESIZE', 'CYLINDERS', 'FUELCONSUMPTION_CITY',\n",
    "       'FUELCONSUMPTION_HWY', 'FUELCONSUMPTION_COMB',\n",
    "       'FUELCONSUMPTION_COMB_MPG']])\n",
    "data_user_normalizada = scaler_user.transform(data_user)\n",
    "data_user_normalizada"
   ]
  },
  {
   "cell_type": "markdown",
   "id": "e4538472",
   "metadata": {},
   "source": [
    "### Funciones predictorias"
   ]
  },
  {
   "cell_type": "code",
   "execution_count": 299,
   "id": "47ed4de5",
   "metadata": {},
   "outputs": [],
   "source": [
    "#Funcion predictora regresión multiple\n",
    "coeficientes = linreg.coef_\n",
    "def predict_co2_emissions(coeficientes, data_user_normalizada):\n",
    "    #Se obtienen los coeficientes\n",
    "    b0 = coeficientes[0]\n",
    "    b1 = coeficientes[1]\n",
    "    b2 = coeficientes[2]\n",
    "    b3 = coeficientes[3]\n",
    "    b4 = coeficientes[4]\n",
    "    b5 = coeficientes[5]\n",
    "    \n",
    "    # Obtiene los datos de entrada del usuario\n",
    "    enginesize = data_user_normalizada[0:,0]\n",
    "    cylinders = data_user_normalizada[0:,1]\n",
    "    fuel_city = data_user_normalizada[0:,2]\n",
    "    fuel_hwy = data_user_normalizada[0:,3]\n",
    "    fuel_comb = data_user_normalizada[0:,4]\n",
    "    fuel_mpg = data_user_normalizada[0:,5]\n",
    "    \n",
    "    # Calcula la variable dependiente\n",
    "    dependiente = b0 + b1*enginesize + b2*cylinders + b3*fuel_city + b4*fuel_hwy + b5*fuel_comb\n",
    "    \n",
    "    # Devuelve la variable dependiente calculada\n",
    "    return dependiente"
   ]
  },
  {
   "cell_type": "code",
   "execution_count": 316,
   "id": "8910c760",
   "metadata": {},
   "outputs": [],
   "source": [
    "#Funcion predictora Ridge\n",
    "coeficientes_Ridge = ridgecv.coef_\n",
    "def predict_co2_emissions_ridge(coeficientes_Ridge, data_user_normalizada):\n",
    "    #Se obtienen los coeficientes\n",
    "    b0 = coeficientes_Ridge[0]\n",
    "    b1 = coeficientes_Ridge[1]\n",
    "    b2 = coeficientes_Ridge[2]\n",
    "    b3 = coeficientes_Ridge[3]\n",
    "    b4 = coeficientes_Ridge[4]\n",
    "    b5 = coeficientes_Ridge[5]\n",
    "    \n",
    "    # Obtiene los datos de entrada del usuario\n",
    "    enginesize = data_user_normalizada[0:,0]\n",
    "    cylinders = data_user_normalizada[0:,1]\n",
    "    fuel_city = data_user_normalizada[0:,2]\n",
    "    fuel_hwy = data_user_normalizada[0:,3]\n",
    "    fuel_comb = data_user_normalizada[0:,4]\n",
    "    fuel_mpg = data_user_normalizada[0:,5]\n",
    "    \n",
    "    # Calcula la variable dependiente\n",
    "    dependiente = b0 + b1*enginesize + b2*cylinders + b3*fuel_city + b4*fuel_hwy + b5*fuel_comb\n",
    "    \n",
    "    # Devuelve la variable dependiente calculada\n",
    "    return dependiente"
   ]
  },
  {
   "cell_type": "code",
   "execution_count": 317,
   "id": "9d24ae9c",
   "metadata": {},
   "outputs": [],
   "source": [
    "#Funcion predictora Lasso\n",
    "coeficientes_Lasso = lassoregcv.coef_\n",
    "def predict_co2_emissions_lasso(coeficientes_Lasso, data_user_normalizada):\n",
    "    #Se obtienen los coeficientes\n",
    "    b0 = coeficientes_Lasso[0]\n",
    "    b1 = coeficientes_Lasso[1]\n",
    "    b2 = coeficientes_Lasso[2]\n",
    "    b3 = coeficientes_Lasso[3]\n",
    "    b4 = coeficientes_Lasso[4]\n",
    "    b5 = coeficientes_Lasso[5]\n",
    "    \n",
    "    # Obtiene los datos de entrada del usuario\n",
    "    enginesize = data_user_normalizada[0:,0]\n",
    "    cylinders = data_user_normalizada[0:,1]\n",
    "    fuel_city = data_user_normalizada[0:,2]\n",
    "    fuel_hwy = data_user_normalizada[0:,3]\n",
    "    fuel_comb = data_user_normalizada[0:,4]\n",
    "    fuel_mpg = data_user_normalizada[0:,5]\n",
    "    \n",
    "    # Calcula la variable dependiente\n",
    "    dependiente = b0 + b1*enginesize + b2*cylinders + b3*fuel_city + b4*fuel_hwy + b5*fuel_comb\n",
    "    \n",
    "    # Devuelve la variable dependiente calculada\n",
    "    return dependiente"
   ]
  },
  {
   "cell_type": "code",
   "execution_count": 318,
   "id": "e2dad953",
   "metadata": {},
   "outputs": [
    {
     "data": {
      "text/plain": [
       "array([-0.40265991])"
      ]
     },
     "execution_count": 318,
     "metadata": {},
     "output_type": "execute_result"
    }
   ],
   "source": [
    "# Resultado regresión Múltiple\n",
    "resultado_normalizado_multiple = predict_co2_emissions(coeficientes, data_user_normalizada)\n",
    "resultado_normalizado_multiple"
   ]
  },
  {
   "cell_type": "code",
   "execution_count": 319,
   "id": "d40a9d65",
   "metadata": {},
   "outputs": [
    {
     "data": {
      "text/plain": [
       "array([-0.4288094])"
      ]
     },
     "execution_count": 319,
     "metadata": {},
     "output_type": "execute_result"
    }
   ],
   "source": [
    "#Resultado regresión Ridge\n",
    "resultado_normalizado_ridge = predict_co2_emissions_ridge(coeficientes_Ridge, data_user_normalizada)\n",
    "resultado_normalizado_ridge"
   ]
  },
  {
   "cell_type": "code",
   "execution_count": 320,
   "id": "86a4ed87",
   "metadata": {},
   "outputs": [
    {
     "data": {
      "text/plain": [
       "array([-0.45420505])"
      ]
     },
     "execution_count": 320,
     "metadata": {},
     "output_type": "execute_result"
    }
   ],
   "source": [
    "#Resultado regresión Lasso\n",
    "resultado_normalizado_lasso = predict_co2_emissions_lasso(coeficientes_Lasso, data_user_normalizada)\n",
    "resultado_normalizado_lasso"
   ]
  },
  {
   "cell_type": "code",
   "execution_count": 321,
   "id": "ea7f5292",
   "metadata": {},
   "outputs": [],
   "source": [
    "#Desnormalizando regresión Multiple\n",
    "scaler_result = StandardScaler()\n",
    "datos_dependientes_normalizados = scaler_result.fit_transform(df_preprocess[['CO2EMISSIONS']])\n",
    "resultado_desnormalizado_reg_multiple = scaler_result.inverse_transform(resultado_normalizado_multiple.reshape(-1,1))\n",
    "resultado_desnormalizado_reg_ridge = scaler_result.inverse_transform(resultado_normalizado_ridge.reshape(-1,1))\n",
    "resultado_desnormalizado_reg_lasso = scaler_result.inverse_transform(resultado_normalizado_lasso.reshape(-1,1))"
   ]
  },
  {
   "cell_type": "markdown",
   "id": "332921f8",
   "metadata": {},
   "source": [
    "### Resultados"
   ]
  },
  {
   "cell_type": "code",
   "execution_count": 332,
   "id": "db1275ff",
   "metadata": {},
   "outputs": [
    {
     "data": {
      "text/html": [
       "<div>\n",
       "<style scoped>\n",
       "    .dataframe tbody tr th:only-of-type {\n",
       "        vertical-align: middle;\n",
       "    }\n",
       "\n",
       "    .dataframe tbody tr th {\n",
       "        vertical-align: top;\n",
       "    }\n",
       "\n",
       "    .dataframe thead th {\n",
       "        text-align: right;\n",
       "    }\n",
       "</style>\n",
       "<table border=\"1\" class=\"dataframe\">\n",
       "  <thead>\n",
       "    <tr style=\"text-align: right;\">\n",
       "      <th></th>\n",
       "      <th>Regresión Múltiple</th>\n",
       "      <th>Regresión Ridge</th>\n",
       "      <th>Regresión Lasso</th>\n",
       "    </tr>\n",
       "  </thead>\n",
       "  <tbody>\n",
       "    <tr>\n",
       "      <th>0</th>\n",
       "      <td>233.458307</td>\n",
       "      <td>231.772917</td>\n",
       "      <td>230.136114</td>\n",
       "    </tr>\n",
       "  </tbody>\n",
       "</table>\n",
       "</div>"
      ],
      "text/plain": [
       "   Regresión Múltiple  Regresión Ridge  Regresión Lasso\n",
       "0          233.458307       231.772917       230.136114"
      ]
     },
     "execution_count": 332,
     "metadata": {},
     "output_type": "execute_result"
    }
   ],
   "source": [
    "np_resultados =np.array([resultado_desnormalizado_reg_multiple[0,0], resultado_desnormalizado_reg_ridge[0,0], resultado_desnormalizado_reg_lasso[0,0]])\n",
    "df_resultados = pd.DataFrame(np_resultados)\n",
    "df_resultados = df_resultados.T\n",
    "df_resultados.columns = ['Regresión Múltiple','Regresión Ridge','Regresión Lasso']\n",
    "df_resultados"
   ]
  },
  {
   "cell_type": "markdown",
   "id": "47da43cb",
   "metadata": {},
   "source": [
    "# ¿Cuál de los 3 modelos de regresión resultó mejor?"
   ]
  },
  {
   "cell_type": "markdown",
   "id": "92a5f389",
   "metadata": {},
   "source": [
    "En conclusión, después de realizar un análisis exploratorio de los datos y de probar diferentes modelos de regresión, podemos concluir que la regresión Lasso es la mejor opción para determinar el modelo de nuestro conjunto de datos. La regresión Lasso nos permite reducir la complejidad del modelo y eliminar variables no significativas, lo que se traduce en una mejor capacidad de generalización del modelo y una menor probabilidad de sobreajuste"
   ]
  }
 ],
 "metadata": {
  "kernelspec": {
   "display_name": "Python 3 (ipykernel)",
   "language": "python",
   "name": "python3"
  },
  "language_info": {
   "codemirror_mode": {
    "name": "ipython",
    "version": 3
   },
   "file_extension": ".py",
   "mimetype": "text/x-python",
   "name": "python",
   "nbconvert_exporter": "python",
   "pygments_lexer": "ipython3",
   "version": "3.9.12"
  }
 },
 "nbformat": 4,
 "nbformat_minor": 5
}
